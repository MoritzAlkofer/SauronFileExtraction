{
 "cells": [
  {
   "cell_type": "code",
   "execution_count": 30,
   "metadata": {},
   "outputs": [],
   "source": [
    "import pandas as pd\n",
    "import mat73\n",
    "from datetime import datetime\n",
    "import numpy as np\n",
    "from tqdm import tqdm\n",
    "from utils import *\n",
    "import h5py"
   ]
  },
  {
   "cell_type": "code",
   "execution_count": 2,
   "metadata": {},
   "outputs": [],
   "source": [
    "df_brandon = pd.read_csv('work_tables/EEGs_And_Reports_20231024.csv')"
   ]
  },
  {
   "cell_type": "code",
   "execution_count": 3,
   "metadata": {},
   "outputs": [],
   "source": [
    "df = pd.read_excel('tables/batch1.xlsx')\n",
    "df = df.rename({'file':'HashFolderName'},axis=1)\n",
    "df=df.merge(df_brandon[['HashFolderName','SiteID','SessionID_new','EEGFolder']],on='HashFolderName')"
   ]
  },
  {
   "cell_type": "code",
   "execution_count": 4,
   "metadata": {},
   "outputs": [],
   "source": [
    "windowsize = 15\n",
    "desired_channels= ['Fp1','F3','C3','P3','F7','T3','T5','O1','Fz','Cz','Pz','Fp2','F4','C4','P4','F8','T4','T6','O2']"
   ]
  },
  {
   "cell_type": "code",
   "execution_count": 38,
   "metadata": {},
   "outputs": [],
   "source": [
    "# process dataframe\n",
    "root = 'bdsp/opendata/EEG/data/'\n",
    "HashFolderNames = df.HashFolderName.unique().tolist()\n",
    "hf = h5py.File('SauronData.h5', 'w')"
   ]
  },
  {
   "cell_type": "code",
   "execution_count": 39,
   "metadata": {},
   "outputs": [
    {
     "name": "stderr",
     "output_type": "stream",
     "text": [
      "100%|██████████| 10/10 [00:05<00:00,  1.75it/s]\n"
     ]
    }
   ],
   "source": [
    "# process EEG file\n",
    "for i in tqdm(range(10)):\n",
    "    # get all events from same hashfolder\n",
    "    sub_df = df[df.HashFolderName==HashFolderNames[i]]\n",
    "\n",
    "    # get knowledge about file location\n",
    "    SiteID,EEGFolder,HashFolderName = sub_df.iloc[0][['SiteID','EEGFolder','HashFolderName']].to_list()\n",
    "    # load file and metadata\n",
    "    data,Fs,channels,absolute_eeg_start_time = process_EEG_file(root,SiteID,EEGFolder,HashFolderName)\n",
    "    \n",
    "    # catch some potential problems\n",
    "    if not 200 in Fs:\n",
    "        print(f'frequency is {Fs}, instead of the normal 200!')\n",
    "        break   \n",
    "    if not set(desired_channels).issubset(channels):\n",
    "        print(f'not all desired channels are present!\\n want: {desired_channels}\\n got: {channels}')\n",
    "        break\n",
    "\n",
    "    # save all events from the eeg file\n",
    "    for j in range(len(sub_df)):\n",
    "        # get time relative to beginning of file \n",
    "        absolute_event_time = sub_df.iloc[j].time\n",
    "        relative_event_time = int((absolute_event_time-absolute_eeg_start_time).total_seconds())\n",
    "    \n",
    "        if relative_event_time>12*3600:\n",
    "            break\n",
    "        # get snippet from eeg file and save it somewhere\n",
    "        snippet = get_event_snippet(data=data,\n",
    "                                    relative_event_time=relative_event_time,\n",
    "                                    windowsize=windowsize,\n",
    "                                    all_channels=channels,\n",
    "                                    desired_channels=desired_channels,\n",
    "                                    Fs=Fs)\n",
    "        name = HashFolderName+'_'+str(relative_event_time)+'.npy'\n",
    "        # save in h5py file\n",
    "        hf.create_dataset(name=name,data=snippet,dtype='f4',compression='gzip')"
   ]
  }
 ],
 "metadata": {
  "kernelspec": {
   "display_name": "Python 3",
   "language": "python",
   "name": "python3"
  },
  "language_info": {
   "codemirror_mode": {
    "name": "ipython",
    "version": 3
   },
   "file_extension": ".py",
   "mimetype": "text/x-python",
   "name": "python",
   "nbconvert_exporter": "python",
   "pygments_lexer": "ipython3",
   "version": "3.10.12"
  }
 },
 "nbformat": 4,
 "nbformat_minor": 2
}
