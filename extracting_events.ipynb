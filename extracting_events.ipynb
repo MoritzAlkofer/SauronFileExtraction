{
 "cells": [
  {
   "cell_type": "code",
   "execution_count": 1,
   "metadata": {},
   "outputs": [],
   "source": [
    "import pandas as pd\n",
    "import mat73\n",
    "from datetime import datetime\n",
    "import numpy as np\n",
    "from tqdm import tqdm"
   ]
  },
  {
   "cell_type": "code",
   "execution_count": 2,
   "metadata": {},
   "outputs": [],
   "source": [
    "df_brandon = pd.read_csv('work_tables/EEGs_And_Reports_20231024.csv')"
   ]
  },
  {
   "cell_type": "code",
   "execution_count": 3,
   "metadata": {},
   "outputs": [],
   "source": [
    "df = pd.read_excel('tables/batch1.xlsx')\n",
    "df = df.rename({'file':'HashFolderName'},axis=1)\n",
    "df=df.merge(df_brandon[['HashFolderName','SiteID','SessionID_new','EEGFolder']],on='HashFolderName')"
   ]
  },
  {
   "cell_type": "code",
   "execution_count": 4,
   "metadata": {},
   "outputs": [],
   "source": [
    "# root = 'bdsp/opendata/EEG/data/'\n",
    "# i= 0\n",
    "# sub_df = df.iloc[i].copy()\n",
    "# path = f'{sub_df.SiteID}/{sub_df.EEGFolder}/{sub_df.HashFolderName}/'\n",
    "# filename = '_'.join([sub_df.HashFolderName.split('_')[0],'0']+sub_df.HashFolderName.split('_')[1:3])+'.mat'"
   ]
  },
  {
   "cell_type": "code",
   "execution_count": 5,
   "metadata": {},
   "outputs": [],
   "source": [
    "# root = 'bdsp/opendata/EEG/data/'\n",
    "# i= 0\n",
    "# x = df.iloc[i].copy()\n",
    "# path = f'{sub_df.SiteID}/{sub_df.EEGFolder}/{sub_df.HashFolderName}/'\n",
    "# filename = '_'.join([sub_df.HashFolderName.split('_')[0],'0']+sub_df.HashFolderName.split('_')[1:3])+'.mat'\n",
    "\n",
    "# signal = mat73.loadmat(root+path+filename)\n",
    "# data=signal['data']\n",
    "# Fs=signal['Fs']"
   ]
  },
  {
   "cell_type": "code",
   "execution_count": 6,
   "metadata": {},
   "outputs": [],
   "source": [
    "# Combine date and time into a datetime object\n",
    "def get_time_from_filename(filename):\n",
    "    # filename in format blabla_y,m,d_h,m,s.mat\n",
    "    # returns timestamp obect\n",
    "    date_str = filename.replace('.mat','').split('_')[-2]\n",
    "    time_str = filename.replace('.mat','').split('_')[-1]\n",
    "\n",
    "    date_object = datetime.strptime(date_str, '%Y%m%d')\n",
    "    time_object = datetime.strptime(time_str, '%H%M%S').time()\n",
    "\n",
    "    # Combine date and time into a datetime object\n",
    "    start = datetime.combine(date_object.date(), time_object)   \n",
    "    return start"
   ]
  },
  {
   "cell_type": "code",
   "execution_count": 22,
   "metadata": {},
   "outputs": [],
   "source": [
    "def get_event_snippet(data,absolute_eeg_start_time,absolute_event_time,windowsize,all_channels,desired_channels):\n",
    "    # takes a piece of signal of shape [channel, ts], the timestamp of the event and the windowsize\n",
    "    # returns the event pm windowsize, shape [channel, windowsize]\n",
    "    relative_event_time = int((absolute_event_time-absolute_start_time).total_seconds())\n",
    "    snippet_start = int((relative_event_time-windowsize/2)*Fs)\n",
    "    snippet_end = int((relative_event_time+windowsize/2)*Fs)\n",
    "    desired_channel_ids = [all_channels.index(channel) for channel in desired_channels]\n",
    "    return data[desired_channel_ids,snippet_start:snippet_end]"
   ]
  },
  {
   "cell_type": "code",
   "execution_count": 23,
   "metadata": {},
   "outputs": [],
   "source": [
    "# process dataframe\n",
    "root = 'bdsp/opendata/EEG/data/'\n",
    "HashFolderNames = df.HashFolderName.unique().tolist()\n"
   ]
  },
  {
   "cell_type": "code",
   "execution_count": 24,
   "metadata": {},
   "outputs": [],
   "source": [
    "def generate_path_and_filename(df):\n",
    "    SiteID,EEGFolder,HashFolderName = df.iloc[0][['SiteID','EEGFolder','HashFolderName']].to_list()\n",
    "\n",
    "    # generate path to file and filename\n",
    "    path = SiteID+'/'+EEGFolder+'/'+HashFolderName+'/'\n",
    "    # insert 0 to create Hashfoldername_0_date_time\n",
    "    filename = '_'.join([HashFolderName.split('_')[0],'0']+HashFolderName.split('_')[1:3])+'.mat'\n"
   ]
  },
  {
   "cell_type": "code",
   "execution_count": 29,
   "metadata": {},
   "outputs": [],
   "source": [
    "def process_EEG_file(SiteID,EEGFolder,HashFolderName):\n",
    "    # generate path to file and filename\n",
    "    path = SiteID+'/'+EEGFolder+'/'+HashFolderName+'/'\n",
    "    # insert 0 to create Hashfoldername_0_date_time\n",
    "    filename = '_'.join([HashFolderName.split('_')[0],'0']+HashFolderName.split('_')[1:3])+'.mat'\n",
    "\n",
    "    # load signal and data\n",
    "    signal = mat73.loadmat(root+path+filename)\n",
    "    data=signal['data']\n",
    "    Fs=signal['Fs']\n",
    "    channels=signal['channels']\n",
    "    absolute_start_time = get_time_from_filename(filename)\n",
    "\n",
    "    return signal,data,Fs,channels,absolute_start_time"
   ]
  },
  {
   "cell_type": "code",
   "execution_count": 31,
   "metadata": {},
   "outputs": [],
   "source": [
    "# process EEG file\n",
    "i = 100\n",
    "sub_df = df[df.HashFolderName==HashFolderNames[i]]\n",
    "SiteID,EEGFolder,HashFolderName = sub_df.iloc[0][['SiteID','EEGFolder','HashFolderName']].to_list()\n",
    "signal,data,Fs,channels,absolute_eeg_start_time = process_EEG_file(SiteID,EEGFolder,HashFolderName)\n"
   ]
  },
  {
   "cell_type": "code",
   "execution_count": 32,
   "metadata": {},
   "outputs": [
    {
     "ename": "SyntaxError",
     "evalue": "invalid syntax (1042894638.py, line 1)",
     "output_type": "error",
     "traceback": [
      "\u001b[0;36m  Cell \u001b[0;32mIn[32], line 1\u001b[0;36m\u001b[0m\n\u001b[0;31m    load_event(data,absolute_eeg_start_time,absolute_event_time):\u001b[0m\n\u001b[0m                                                                ^\u001b[0m\n\u001b[0;31mSyntaxError\u001b[0m\u001b[0;31m:\u001b[0m invalid syntax\n"
     ]
    }
   ],
   "source": [
    "def load_event(data,absolute_eeg_start_time,absolute_event_time,windowsize):\n",
    "    relative_event_time = int((absolute_event_time-absolute_start_time).total_seconds())\n",
    "windowsize = 15\n",
    "snippet = get_event_snippet(data=data,event_time=relative_event_time,windowsize=windowsize,all_channels=channels,desired_channels=desired_channels)\n"
   ]
  },
  {
   "cell_type": "code",
   "execution_count": 28,
   "metadata": {},
   "outputs": [],
   "source": [
    "# load event\n",
    "j = 0\n",
    "absolute_event_time = sub_df.iloc[j].time\n"
   ]
  },
  {
   "cell_type": "code",
   "execution_count": 17,
   "metadata": {},
   "outputs": [],
   "source": []
  }
 ],
 "metadata": {
  "kernelspec": {
   "display_name": "Python 3",
   "language": "python",
   "name": "python3"
  },
  "language_info": {
   "codemirror_mode": {
    "name": "ipython",
    "version": 3
   },
   "file_extension": ".py",
   "mimetype": "text/x-python",
   "name": "python",
   "nbconvert_exporter": "python",
   "pygments_lexer": "ipython3",
   "version": "3.10.12"
  }
 },
 "nbformat": 4,
 "nbformat_minor": 2
}
