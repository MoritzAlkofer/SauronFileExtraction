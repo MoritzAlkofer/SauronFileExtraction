{
 "cells": [
  {
   "cell_type": "code",
   "execution_count": 17,
   "metadata": {},
   "outputs": [],
   "source": [
    "import pandas as pd\n",
    "import mat73\n",
    "from datetime import datetime"
   ]
  },
  {
   "cell_type": "code",
   "execution_count": 2,
   "metadata": {},
   "outputs": [],
   "source": [
    "df = pd.read_excel('tables/batch1.xlsx')\n",
    "df = df.rename({'file':'HashFolderName'},axis=1)"
   ]
  },
  {
   "cell_type": "code",
   "execution_count": 3,
   "metadata": {},
   "outputs": [],
   "source": [
    "df_brandon = pd.read_csv('EEGs_And_Reports_20231024.csv')"
   ]
  },
  {
   "cell_type": "code",
   "execution_count": 4,
   "metadata": {},
   "outputs": [],
   "source": [
    "df=df.merge(df_brandon[['HashFolderName','SiteID','SessionID_new','EEGFolder']],on='HashFolderName')"
   ]
  },
  {
   "cell_type": "code",
   "execution_count": 9,
   "metadata": {},
   "outputs": [],
   "source": [
    "root = 'bdsp/opendata/EEG/data/'\n",
    "i= 0\n",
    "x = df.iloc[i].copy()\n",
    "path = f'{x.SiteID}/{x.EEGFolder}/{x.HashFolderName}/'\n",
    "filename = '_'.join([x.HashFolderName.split('_')[0],'0']+x.HashFolderName.split('_')[1:3])+'.mat'"
   ]
  },
  {
   "cell_type": "code",
   "execution_count": 10,
   "metadata": {},
   "outputs": [],
   "source": [
    "root = 'bdsp/opendata/EEG/data/'\n",
    "i= 0\n",
    "x = df.iloc[i].copy()\n",
    "path = f'{x.SiteID}/{x.EEGFolder}/{x.HashFolderName}/'\n",
    "filename = '_'.join([x.HashFolderName.split('_')[0],'0']+x.HashFolderName.split('_')[1:3])+'.mat'\n",
    "\n",
    "signal = mat73.loadmat(root+path+filename)\n",
    "data=signal['data']\n",
    "Fs=signal['Fs']"
   ]
  },
  {
   "cell_type": "code",
   "execution_count": 14,
   "metadata": {},
   "outputs": [],
   "source": [
    "# Combine date and time into a datetime object\n",
    "def get_time_from_filename(filename):\n",
    "    # filename in format blabla_y,m,d_h,m,s.mat\n",
    "    # returns timestamp obect\n",
    "    date_str = filename.replace('.mat','').split('_')[-2]\n",
    "    time_str = filename.replace('.mat','').split('_')[-1]\n",
    "\n",
    "    date_object = datetime.strptime(date_str, '%Y%m%d')\n",
    "    time_object = datetime.strptime(time_str, '%H%M%S').time()\n",
    "\n",
    "    # Combine date and time into a datetime object\n",
    "    start = datetime.combine(date_object.date(), time_object)   \n",
    "    return start"
   ]
  },
  {
   "cell_type": "code",
   "execution_count": 15,
   "metadata": {},
   "outputs": [],
   "source": [
    "def get_event_snippet(data,event_time,windowsize):\n",
    "    # takes a piece of signal of shape [channel, ts], the timestamp of the event and the windowsize\n",
    "    # returns the event pm windowsize, shape [channel, windowsize]\n",
    "    snippet_start = int((event_time-windowsize/2)*Fs)\n",
    "    snippet_end = int((event_time+windowsize/2)*Fs)\n",
    "    return data[:,snippet_start:snippet_end]"
   ]
  },
  {
   "cell_type": "code",
   "execution_count": 16,
   "metadata": {},
   "outputs": [
    {
     "ename": "AttributeError",
     "evalue": "module 'datetime' has no attribute 'strptime'",
     "output_type": "error",
     "traceback": [
      "\u001b[0;31m---------------------------------------------------------------------------\u001b[0m",
      "\u001b[0;31mAttributeError\u001b[0m                            Traceback (most recent call last)",
      "\u001b[1;32m/home/ubuntu/work/extracting_events.ipynb Cell 10\u001b[0m line \u001b[0;36m1\n\u001b[0;32m----> <a href='vscode-notebook-cell://ssh-remote%2Bbdsp_moving-data-to-dropbox_malkofer/home/ubuntu/work/extracting_events.ipynb#X15sdnNjb2RlLXJlbW90ZQ%3D%3D?line=0'>1</a>\u001b[0m relative_start_time \u001b[39m=\u001b[39m get_time_from_filename(filename)\n\u001b[1;32m      <a href='vscode-notebook-cell://ssh-remote%2Bbdsp_moving-data-to-dropbox_malkofer/home/ubuntu/work/extracting_events.ipynb#X15sdnNjb2RlLXJlbW90ZQ%3D%3D?line=1'>2</a>\u001b[0m relative_event_time \u001b[39m=\u001b[39m x\u001b[39m.\u001b[39mtime\n\u001b[1;32m      <a href='vscode-notebook-cell://ssh-remote%2Bbdsp_moving-data-to-dropbox_malkofer/home/ubuntu/work/extracting_events.ipynb#X15sdnNjb2RlLXJlbW90ZQ%3D%3D?line=2'>3</a>\u001b[0m absolute_event_time \u001b[39m=\u001b[39m (relative_event_time\u001b[39m-\u001b[39mrelative_start_time)\u001b[39m.\u001b[39mtotal_seconds()\n",
      "\u001b[1;32m/home/ubuntu/work/extracting_events.ipynb Cell 10\u001b[0m line \u001b[0;36m8\n\u001b[1;32m      <a href='vscode-notebook-cell://ssh-remote%2Bbdsp_moving-data-to-dropbox_malkofer/home/ubuntu/work/extracting_events.ipynb#X15sdnNjb2RlLXJlbW90ZQ%3D%3D?line=4'>5</a>\u001b[0m date_str \u001b[39m=\u001b[39m filename\u001b[39m.\u001b[39mreplace(\u001b[39m'\u001b[39m\u001b[39m.mat\u001b[39m\u001b[39m'\u001b[39m,\u001b[39m'\u001b[39m\u001b[39m'\u001b[39m)\u001b[39m.\u001b[39msplit(\u001b[39m'\u001b[39m\u001b[39m_\u001b[39m\u001b[39m'\u001b[39m)[\u001b[39m-\u001b[39m\u001b[39m2\u001b[39m]\n\u001b[1;32m      <a href='vscode-notebook-cell://ssh-remote%2Bbdsp_moving-data-to-dropbox_malkofer/home/ubuntu/work/extracting_events.ipynb#X15sdnNjb2RlLXJlbW90ZQ%3D%3D?line=5'>6</a>\u001b[0m time_str \u001b[39m=\u001b[39m filename\u001b[39m.\u001b[39mreplace(\u001b[39m'\u001b[39m\u001b[39m.mat\u001b[39m\u001b[39m'\u001b[39m,\u001b[39m'\u001b[39m\u001b[39m'\u001b[39m)\u001b[39m.\u001b[39msplit(\u001b[39m'\u001b[39m\u001b[39m_\u001b[39m\u001b[39m'\u001b[39m)[\u001b[39m-\u001b[39m\u001b[39m1\u001b[39m]\n\u001b[0;32m----> <a href='vscode-notebook-cell://ssh-remote%2Bbdsp_moving-data-to-dropbox_malkofer/home/ubuntu/work/extracting_events.ipynb#X15sdnNjb2RlLXJlbW90ZQ%3D%3D?line=7'>8</a>\u001b[0m date_object \u001b[39m=\u001b[39m datetime\u001b[39m.\u001b[39;49mstrptime(date_str, \u001b[39m'\u001b[39m\u001b[39m%\u001b[39m\u001b[39mY\u001b[39m\u001b[39m%\u001b[39m\u001b[39mm\u001b[39m\u001b[39m%d\u001b[39;00m\u001b[39m'\u001b[39m)\n\u001b[1;32m      <a href='vscode-notebook-cell://ssh-remote%2Bbdsp_moving-data-to-dropbox_malkofer/home/ubuntu/work/extracting_events.ipynb#X15sdnNjb2RlLXJlbW90ZQ%3D%3D?line=8'>9</a>\u001b[0m time_object \u001b[39m=\u001b[39m datetime\u001b[39m.\u001b[39mstrptime(time_str, \u001b[39m'\u001b[39m\u001b[39m%\u001b[39m\u001b[39mH\u001b[39m\u001b[39m%\u001b[39m\u001b[39mM\u001b[39m\u001b[39m%\u001b[39m\u001b[39mS\u001b[39m\u001b[39m'\u001b[39m)\u001b[39m.\u001b[39mtime()\n\u001b[1;32m     <a href='vscode-notebook-cell://ssh-remote%2Bbdsp_moving-data-to-dropbox_malkofer/home/ubuntu/work/extracting_events.ipynb#X15sdnNjb2RlLXJlbW90ZQ%3D%3D?line=10'>11</a>\u001b[0m \u001b[39m# Combine date and time into a datetime object\u001b[39;00m\n",
      "\u001b[0;31mAttributeError\u001b[0m: module 'datetime' has no attribute 'strptime'"
     ]
    }
   ],
   "source": [
    "relative_start_time = get_time_from_filename(filename)\n",
    "relative_event_time = x.time\n",
    "absolute_event_time = (relative_event_time-relative_start_time).total_seconds()\n",
    "windowsize = 15\n",
    "snippet = get_event_snippet(data=data,event_time=absolute_event_time,windowsize=windowsize)\n"
   ]
  },
  {
   "cell_type": "code",
   "execution_count": null,
   "metadata": {},
   "outputs": [],
   "source": []
  },
  {
   "cell_type": "code",
   "execution_count": null,
   "metadata": {},
   "outputs": [],
   "source": []
  }
 ],
 "metadata": {
  "kernelspec": {
   "display_name": "Python 3",
   "language": "python",
   "name": "python3"
  },
  "language_info": {
   "codemirror_mode": {
    "name": "ipython",
    "version": 3
   },
   "file_extension": ".py",
   "mimetype": "text/x-python",
   "name": "python",
   "nbconvert_exporter": "python",
   "pygments_lexer": "ipython3",
   "version": "3.10.12"
  }
 },
 "nbformat": 4,
 "nbformat_minor": 2
}
