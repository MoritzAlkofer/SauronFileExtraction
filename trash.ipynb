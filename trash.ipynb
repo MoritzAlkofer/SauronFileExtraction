{
 "cells": [
  {
   "cell_type": "code",
   "execution_count": 2,
   "metadata": {},
   "outputs": [],
   "source": [
    "import os\n",
    "import numpy as np\n",
    "import h5py"
   ]
  },
  {
   "cell_type": "code",
   "execution_count": 3,
   "metadata": {},
   "outputs": [],
   "source": [
    "files = os.listdir('batch2')"
   ]
  },
  {
   "cell_type": "code",
   "execution_count": null,
   "metadata": {},
   "outputs": [],
   "source": [
    "hf = h5py.File('batch2.h5', 'w')\n",
    "for f in files:\n",
    "    print(f)\n",
    "    data = np.load('batch2/' + f)\n",
    "    hf.create_dataset(f, data=data,dtype='f4',compression='gzip')"
   ]
  },
  {
   "cell_type": "code",
   "execution_count": 2,
   "metadata": {},
   "outputs": [],
   "source": [
    "import pandas as pd \n",
    "df_event = pd.read_excel('tables/batch2.xlsx')\n"
   ]
  },
  {
   "cell_type": "code",
   "execution_count": null,
   "metadata": {},
   "outputs": [],
   "source": []
  },
  {
   "cell_type": "code",
   "execution_count": 57,
   "metadata": {},
   "outputs": [],
   "source": [
    "df_event['saveName'] = df_event.file.str.split('_').str[0]+df_event.time.apply(lambda x: x.strftime('_%Y%m%d_%H%M%S'))+'.npy'"
   ]
  },
  {
   "cell_type": "code",
   "execution_count": 60,
   "metadata": {},
   "outputs": [],
   "source": [
    "df_missing = df_event[~df_event.saveName.isin(files)]\n",
    "df_missing.to_excel('tables/missing_batch2.xlsx', index=False)"
   ]
  },
  {
   "cell_type": "code",
   "execution_count": 64,
   "metadata": {},
   "outputs": [
    {
     "data": {
      "text/html": [
       "<div>\n",
       "<style scoped>\n",
       "    .dataframe tbody tr th:only-of-type {\n",
       "        vertical-align: middle;\n",
       "    }\n",
       "\n",
       "    .dataframe tbody tr th {\n",
       "        vertical-align: top;\n",
       "    }\n",
       "\n",
       "    .dataframe thead th {\n",
       "        text-align: right;\n",
       "    }\n",
       "</style>\n",
       "<table border=\"1\" class=\"dataframe\">\n",
       "  <thead>\n",
       "    <tr style=\"text-align: right;\">\n",
       "      <th></th>\n",
       "      <th>file</th>\n",
       "      <th>class</th>\n",
       "      <th>annotation</th>\n",
       "      <th>time</th>\n",
       "      <th>saveName</th>\n",
       "    </tr>\n",
       "  </thead>\n",
       "  <tbody>\n",
       "    <tr>\n",
       "      <th>1173</th>\n",
       "      <td>01f0de8935a73f0a65c0c8f0edb31fff19b3b53236c4d9...</td>\n",
       "      <td>ied</td>\n",
       "      <td>persyst,spike</td>\n",
       "      <td>2019-08-22 20:37:54</td>\n",
       "      <td>01f0de8935a73f0a65c0c8f0edb31fff19b3b53236c4d9...</td>\n",
       "    </tr>\n",
       "    <tr>\n",
       "      <th>1174</th>\n",
       "      <td>01f0de8935a73f0a65c0c8f0edb31fff19b3b53236c4d9...</td>\n",
       "      <td>ied</td>\n",
       "      <td>persyst,spike</td>\n",
       "      <td>2019-08-22 20:37:55</td>\n",
       "      <td>01f0de8935a73f0a65c0c8f0edb31fff19b3b53236c4d9...</td>\n",
       "    </tr>\n",
       "    <tr>\n",
       "      <th>1175</th>\n",
       "      <td>01f0de8935a73f0a65c0c8f0edb31fff19b3b53236c4d9...</td>\n",
       "      <td>ied</td>\n",
       "      <td>persyst,spike</td>\n",
       "      <td>2019-08-22 20:37:56</td>\n",
       "      <td>01f0de8935a73f0a65c0c8f0edb31fff19b3b53236c4d9...</td>\n",
       "    </tr>\n",
       "    <tr>\n",
       "      <th>1176</th>\n",
       "      <td>01f0de8935a73f0a65c0c8f0edb31fff19b3b53236c4d9...</td>\n",
       "      <td>ied</td>\n",
       "      <td>persyst,spike</td>\n",
       "      <td>2019-08-22 20:37:57</td>\n",
       "      <td>01f0de8935a73f0a65c0c8f0edb31fff19b3b53236c4d9...</td>\n",
       "    </tr>\n",
       "    <tr>\n",
       "      <th>1177</th>\n",
       "      <td>01f0de8935a73f0a65c0c8f0edb31fff19b3b53236c4d9...</td>\n",
       "      <td>ied</td>\n",
       "      <td>persyst,spike</td>\n",
       "      <td>2019-08-22 20:37:59</td>\n",
       "      <td>01f0de8935a73f0a65c0c8f0edb31fff19b3b53236c4d9...</td>\n",
       "    </tr>\n",
       "    <tr>\n",
       "      <th>...</th>\n",
       "      <td>...</td>\n",
       "      <td>...</td>\n",
       "      <td>...</td>\n",
       "      <td>...</td>\n",
       "      <td>...</td>\n",
       "    </tr>\n",
       "    <tr>\n",
       "      <th>2104</th>\n",
       "      <td>01f0de8935a73f0a65c0c8f0edb31fff19b3b53236c4d9...</td>\n",
       "      <td>ied</td>\n",
       "      <td>persyst,spike</td>\n",
       "      <td>2019-08-22 21:00:16</td>\n",
       "      <td>01f0de8935a73f0a65c0c8f0edb31fff19b3b53236c4d9...</td>\n",
       "    </tr>\n",
       "    <tr>\n",
       "      <th>2105</th>\n",
       "      <td>01f0de8935a73f0a65c0c8f0edb31fff19b3b53236c4d9...</td>\n",
       "      <td>ied</td>\n",
       "      <td>persyst,spike</td>\n",
       "      <td>2019-08-22 21:00:17</td>\n",
       "      <td>01f0de8935a73f0a65c0c8f0edb31fff19b3b53236c4d9...</td>\n",
       "    </tr>\n",
       "    <tr>\n",
       "      <th>2106</th>\n",
       "      <td>01f0de8935a73f0a65c0c8f0edb31fff19b3b53236c4d9...</td>\n",
       "      <td>ied</td>\n",
       "      <td>persyst,spike</td>\n",
       "      <td>2019-08-22 21:00:17</td>\n",
       "      <td>01f0de8935a73f0a65c0c8f0edb31fff19b3b53236c4d9...</td>\n",
       "    </tr>\n",
       "    <tr>\n",
       "      <th>2107</th>\n",
       "      <td>01f0de8935a73f0a65c0c8f0edb31fff19b3b53236c4d9...</td>\n",
       "      <td>ied</td>\n",
       "      <td>persyst,spike</td>\n",
       "      <td>2019-08-22 21:00:19</td>\n",
       "      <td>01f0de8935a73f0a65c0c8f0edb31fff19b3b53236c4d9...</td>\n",
       "    </tr>\n",
       "    <tr>\n",
       "      <th>2108</th>\n",
       "      <td>01f0de8935a73f0a65c0c8f0edb31fff19b3b53236c4d9...</td>\n",
       "      <td>ied</td>\n",
       "      <td>persyst,spike</td>\n",
       "      <td>2019-08-22 21:00:21</td>\n",
       "      <td>01f0de8935a73f0a65c0c8f0edb31fff19b3b53236c4d9...</td>\n",
       "    </tr>\n",
       "  </tbody>\n",
       "</table>\n",
       "<p>936 rows × 5 columns</p>\n",
       "</div>"
      ],
      "text/plain": [
       "                                                   file class     annotation  \\\n",
       "1173  01f0de8935a73f0a65c0c8f0edb31fff19b3b53236c4d9...   ied  persyst,spike   \n",
       "1174  01f0de8935a73f0a65c0c8f0edb31fff19b3b53236c4d9...   ied  persyst,spike   \n",
       "1175  01f0de8935a73f0a65c0c8f0edb31fff19b3b53236c4d9...   ied  persyst,spike   \n",
       "1176  01f0de8935a73f0a65c0c8f0edb31fff19b3b53236c4d9...   ied  persyst,spike   \n",
       "1177  01f0de8935a73f0a65c0c8f0edb31fff19b3b53236c4d9...   ied  persyst,spike   \n",
       "...                                                 ...   ...            ...   \n",
       "2104  01f0de8935a73f0a65c0c8f0edb31fff19b3b53236c4d9...   ied  persyst,spike   \n",
       "2105  01f0de8935a73f0a65c0c8f0edb31fff19b3b53236c4d9...   ied  persyst,spike   \n",
       "2106  01f0de8935a73f0a65c0c8f0edb31fff19b3b53236c4d9...   ied  persyst,spike   \n",
       "2107  01f0de8935a73f0a65c0c8f0edb31fff19b3b53236c4d9...   ied  persyst,spike   \n",
       "2108  01f0de8935a73f0a65c0c8f0edb31fff19b3b53236c4d9...   ied  persyst,spike   \n",
       "\n",
       "                    time                                           saveName  \n",
       "1173 2019-08-22 20:37:54  01f0de8935a73f0a65c0c8f0edb31fff19b3b53236c4d9...  \n",
       "1174 2019-08-22 20:37:55  01f0de8935a73f0a65c0c8f0edb31fff19b3b53236c4d9...  \n",
       "1175 2019-08-22 20:37:56  01f0de8935a73f0a65c0c8f0edb31fff19b3b53236c4d9...  \n",
       "1176 2019-08-22 20:37:57  01f0de8935a73f0a65c0c8f0edb31fff19b3b53236c4d9...  \n",
       "1177 2019-08-22 20:37:59  01f0de8935a73f0a65c0c8f0edb31fff19b3b53236c4d9...  \n",
       "...                  ...                                                ...  \n",
       "2104 2019-08-22 21:00:16  01f0de8935a73f0a65c0c8f0edb31fff19b3b53236c4d9...  \n",
       "2105 2019-08-22 21:00:17  01f0de8935a73f0a65c0c8f0edb31fff19b3b53236c4d9...  \n",
       "2106 2019-08-22 21:00:17  01f0de8935a73f0a65c0c8f0edb31fff19b3b53236c4d9...  \n",
       "2107 2019-08-22 21:00:19  01f0de8935a73f0a65c0c8f0edb31fff19b3b53236c4d9...  \n",
       "2108 2019-08-22 21:00:21  01f0de8935a73f0a65c0c8f0edb31fff19b3b53236c4d9...  \n",
       "\n",
       "[936 rows x 5 columns]"
      ]
     },
     "execution_count": 64,
     "metadata": {},
     "output_type": "execute_result"
    }
   ],
   "source": [
    "file = '01f0de8935a73f0a65c0c8f0edb31fff19b3b53236c4d9de66b8066e496ecf05_20190821_071441'\n",
    "df_missing[df_missing.file==file]"
   ]
  },
  {
   "cell_type": "code",
   "execution_count": 49,
   "metadata": {},
   "outputs": [
    {
     "data": {
      "text/plain": [
       "False"
      ]
     },
     "execution_count": 49,
     "metadata": {},
     "output_type": "execute_result"
    }
   ],
   "source": [
    "x =np.array([1,np.nan])\n",
    "np.isnan(x).all()\n"
   ]
  },
  {
   "cell_type": "code",
   "execution_count": 65,
   "metadata": {},
   "outputs": [
    {
     "name": "stdout",
     "output_type": "stream",
     "text": [
      "bdsp/opendata/EEG/data/S0001/cEEG/01f0de8935a73f0a65c0c8f0edb31fff19b3b53236c4d9de66b8066e496ecf05_20190821_071441\n",
      "['01f0de8935a73f0a65c0c8f0edb31fff19b3b53236c4d9de66b8066e496ecf05_0_20190821_071441.mat', '01f0de8935a73f0a65c0c8f0edb31fff19b3b53236c4d9de66b8066e496ecf05_1_20190821_191441.mat', '01f0de8935a73f0a65c0c8f0edb31fff19b3b53236c4d9de66b8066e496ecf05_20190821_071441.csv', '01f0de8935a73f0a65c0c8f0edb31fff19b3b53236c4d9de66b8066e496ecf05_20190821_071441_PersystSpikes.csv']\n"
     ]
    }
   ],
   "source": [
    "path ='bdsp/opendata/EEG/data/S0001/cEEG/01f0de8935a73f0a65c0c8f0edb31fff19b3b53236c4d9de66b8066e496ecf05_20190821_071441'\n",
    "print(path)\n",
    "print(os.listdir(path))\n"
   ]
  },
  {
   "cell_type": "code",
   "execution_count": 1,
   "metadata": {},
   "outputs": [
    {
     "ename": "NameError",
     "evalue": "name 'df_event' is not defined",
     "output_type": "error",
     "traceback": [
      "\u001b[0;31m---------------------------------------------------------------------------\u001b[0m",
      "\u001b[0;31mNameError\u001b[0m                                 Traceback (most recent call last)",
      "Cell \u001b[0;32mIn[1], line 1\u001b[0m\n\u001b[0;32m----> 1\u001b[0m \u001b[43mdf_event\u001b[49m\n",
      "\u001b[0;31mNameError\u001b[0m: name 'df_event' is not defined"
     ]
    }
   ],
   "source": [
    "df_event"
   ]
  },
  {
   "cell_type": "code",
   "execution_count": 34,
   "metadata": {},
   "outputs": [],
   "source": [
    "import mat73\n",
    "path_file = path+ '/01f0de8935a73f0a65c0c8f0edb31fff19b3b53236c4d9de66b8066e496ecf05_0_20190821_071441.mat'\n",
    "data = mat73.loadmat('bdsp/opendata/EEG/data/S0002/EEG/01f444755843e19255212b011907e2a114533733812ef8f84e4213972ab28496_20111012_113234/01f444755843e19255212b011907e2a114533733812ef8f84e4213972ab28496_0_20111012_113234.mat')"
   ]
  },
  {
   "cell_type": "code",
   "execution_count": 39,
   "metadata": {},
   "outputs": [
    {
     "data": {
      "text/plain": [
       "11.999998611111112"
      ]
     },
     "execution_count": 39,
     "metadata": {},
     "output_type": "execute_result"
    }
   ],
   "source": [
    "data['data'].shape[1]/200/3600"
   ]
  },
  {
   "cell_type": "code",
   "execution_count": 103,
   "metadata": {},
   "outputs": [
    {
     "data": {
      "text/plain": [
       "file          01f0de8935a73f0a65c0c8f0edb31fff19b3b53236c4d9...\n",
       "class                                                       ied\n",
       "annotation                                        persyst,spike\n",
       "time                                        2019-08-22 20:37:54\n",
       "saveName      01f0de8935a73f0a65c0c8f0edb31fff19b3b53236c4d9...\n",
       "Name: 1173, dtype: object"
      ]
     },
     "execution_count": 103,
     "metadata": {},
     "output_type": "execute_result"
    }
   ],
   "source": [
    "df_event[~df_event.saveName.isin(files)]"
   ]
  },
  {
   "cell_type": "code",
   "execution_count": 20,
   "metadata": {},
   "outputs": [],
   "source": [
    "import h5py\n",
    "hf = h5py.File('batch_2.h5', 'r')\n",
    "hf.keys()\n",
    "hf.close()"
   ]
  },
  {
   "cell_type": "code",
   "execution_count": 5,
   "metadata": {},
   "outputs": [],
   "source": [
    "df_event = pd.read_excel('tables/batch2.xlsx')\n",
    "df_event = df_event.rename({'file':'HashFolderName','time':'eventTime'},axis=1)\n",
    "    "
   ]
  },
  {
   "cell_type": "code",
   "execution_count": 31,
   "metadata": {},
   "outputs": [],
   "source": [
    "df_eeg = pd.read_csv('tables/EEGs_And_Reports_20231024.csv')[['HashFolderName','SiteID','SessionID_new','EEGFolder']]\n",
    "df_eeg['startTime'] = df_eeg.HashFolderName.apply(get_time_from_filename)"
   ]
  },
  {
   "cell_type": "code",
   "execution_count": 42,
   "metadata": {},
   "outputs": [],
   "source": [
    "eventTimes = df_event[df_event.HashFolderName == '01f0de8935a73f0a65c0c8f0edb31fff19b3b53236c4d9de66b8066e496ecf05_20190828_072657']['eventTime'].unique()\n",
    "        "
   ]
  },
  {
   "cell_type": "code",
   "execution_count": 49,
   "metadata": {},
   "outputs": [],
   "source": [
    "x = np.load('/home/ubuntu/SauronFileExtraction/test/01ec6ffcdd1e715c7f1aae76fac32d3537aa8c6dbb63d00f839db4cb173094cf_20190107_083019.npy')"
   ]
  },
  {
   "cell_type": "code",
   "execution_count": 56,
   "metadata": {},
   "outputs": [],
   "source": [
    "df = pd.read_csv('tables/BIDS_EEG_MGB_Deidentified_Lookup_5thDecember.csv')"
   ]
  },
  {
   "cell_type": "code",
   "execution_count": 7,
   "metadata": {},
   "outputs": [
    {
     "data": {
      "text/plain": [
       "900"
      ]
     },
     "execution_count": 7,
     "metadata": {},
     "output_type": "execute_result"
    }
   ],
   "source": [
    "df_event.HashFolderName.nunique()"
   ]
  },
  {
   "cell_type": "code",
   "execution_count": 15,
   "metadata": {},
   "outputs": [
    {
     "data": {
      "text/plain": [
       "44.748171162162166"
      ]
     },
     "execution_count": 15,
     "metadata": {},
     "output_type": "execute_result"
    }
   ],
   "source": [
    "import os\n",
    "os.path.getsize('SauronData.h5')*1e-9/14800*200000"
   ]
  },
  {
   "cell_type": "code",
   "execution_count": 11,
   "metadata": {},
   "outputs": [],
   "source": [
    "import h5py\n",
    "hf = h5py.File('SauronData.h5', 'r')"
   ]
  },
  {
   "cell_type": "code",
   "execution_count": 14,
   "metadata": {},
   "outputs": [
    {
     "data": {
      "text/plain": [
       "14841"
      ]
     },
     "execution_count": 14,
     "metadata": {},
     "output_type": "execute_result"
    }
   ],
   "source": [
    "len(hf.keys())"
   ]
  }
 ],
 "metadata": {
  "kernelspec": {
   "display_name": "Python 3",
   "language": "python",
   "name": "python3"
  },
  "language_info": {
   "codemirror_mode": {
    "name": "ipython",
    "version": 3
   },
   "file_extension": ".py",
   "mimetype": "text/x-python",
   "name": "python",
   "nbconvert_exporter": "python",
   "pygments_lexer": "ipython3",
   "version": "3.10.12"
  }
 },
 "nbformat": 4,
 "nbformat_minor": 2
}
