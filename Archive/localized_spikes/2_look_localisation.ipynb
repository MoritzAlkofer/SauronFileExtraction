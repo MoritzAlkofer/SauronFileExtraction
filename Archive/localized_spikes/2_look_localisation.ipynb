{
 "cells": [
  {
   "cell_type": "code",
   "execution_count": 1,
   "metadata": {},
   "outputs": [],
   "source": [
    "import pandas as pd"
   ]
  },
  {
   "cell_type": "code",
   "execution_count": 2,
   "metadata": {},
   "outputs": [],
   "source": [
    "df_event = pd.read_excel('spike_events_with_loc.xlsx')"
   ]
  },
  {
   "cell_type": "code",
   "execution_count": 3,
   "metadata": {},
   "outputs": [],
   "source": [
    "df_loc = pd.read_csv('localisation.csv')"
   ]
  },
  {
   "cell_type": "code",
   "execution_count": 4,
   "metadata": {},
   "outputs": [],
   "source": [
    "locations = ['frontal', 'central', 'parietal', 'occipital', 'temporal', 'general']"
   ]
  },
  {
   "cell_type": "code",
   "execution_count": 5,
   "metadata": {},
   "outputs": [],
   "source": [
    "def localize_annotation(annotation, df_loc,locations):\n",
    "    annotations = annotation.split(',')\n",
    "    for loc in ['frontal', 'central', 'parietal', 'occipital', 'temporal', 'general']:\n",
    "        if bool(set(df_loc[loc]) & set(annotations)):\n",
    "            return loc"
   ]
  },
  {
   "cell_type": "code",
   "execution_count": 6,
   "metadata": {},
   "outputs": [],
   "source": [
    "df_event['location'] = df_event.annotation.apply(lambda x: localize_annotation(x, df_loc,locations))"
   ]
  },
  {
   "cell_type": "code",
   "execution_count": 7,
   "metadata": {},
   "outputs": [
    {
     "name": "stdout",
     "output_type": "stream",
     "text": [
      "frontal: 758\n",
      "central: 259\n",
      "parietal: 271\n",
      "occipital: 232\n",
      "temporal: 1262\n",
      "general: 398\n"
     ]
    }
   ],
   "source": [
    "for location in locations:\n",
    "    print(f'{location}: {df_event[df_event.location == location][\"bdsp_id\"].nunique()}')"
   ]
  },
  {
   "cell_type": "code",
   "execution_count": 10,
   "metadata": {},
   "outputs": [],
   "source": [
    "df_event[df_event.location.isin(locations)].to_excel('localized_spikes.xlsx', index=False)"
   ]
  }
 ],
 "metadata": {
  "kernelspec": {
   "display_name": "Python 3",
   "language": "python",
   "name": "python3"
  },
  "language_info": {
   "codemirror_mode": {
    "name": "ipython",
    "version": 3
   },
   "file_extension": ".py",
   "mimetype": "text/x-python",
   "name": "python",
   "nbconvert_exporter": "python",
   "pygments_lexer": "ipython3",
   "version": "3.10.12"
  }
 },
 "nbformat": 4,
 "nbformat_minor": 2
}
