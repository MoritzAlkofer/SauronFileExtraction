{
 "cells": [
  {
   "cell_type": "code",
   "execution_count": 49,
   "metadata": {},
   "outputs": [],
   "source": [
    "import pandas as pd\n",
    "import mat73\n",
    "from datetime import datetime,timedelta\n",
    "import numpy as np\n",
    "from tqdm import tqdm\n",
    "from utils import *\n",
    "import h5py"
   ]
  },
  {
   "cell_type": "code",
   "execution_count": 23,
   "metadata": {},
   "outputs": [],
   "source": [
    "df_brandon = pd.read_csv('work_tables/EEGs_And_Reports_20231024.csv')"
   ]
  },
  {
   "cell_type": "code",
   "execution_count": 24,
   "metadata": {},
   "outputs": [],
   "source": [
    "df = pd.read_excel('tables/batch1.xlsx')\n",
    "df = df.rename({'file':'HashFolderName'},axis=1)\n",
    "df = df.rename({'time':'eventTime'},axis=1)\n",
    "df=df.merge(df_brandon[['HashFolderName','SiteID','EEGFolder']],on='HashFolderName')\n",
    "\n",
    "# generate event time relative to event start\n",
    "df['startTime'] = df.HashFolderName.apply(get_time_from_filename)\n",
    "df['relativeTime'] = ((df.eventTime-df.startTime).dt.total_seconds()).astype(int)"
   ]
  },
  {
   "cell_type": "code",
   "execution_count": 25,
   "metadata": {},
   "outputs": [],
   "source": [
    "df[['HashFolderName', 'class', 'annotation', 'eventTime', 'startTime', 'relativeTime']].to_excel('tables_with_relative_time/batch1.xlsx',index=False)"
   ]
  },
  {
   "cell_type": "code",
   "execution_count": 26,
   "metadata": {},
   "outputs": [],
   "source": [
    "# process dataframe\n",
    "root = 'bdsp/opendata/EEG/data/'\n",
    "windowsize = 15\n",
    "desired_channels= ['Fp1','F3','C3','P3','F7','T3','T5','O1','Fz','Cz','Pz','Fp2','F4','C4','P4','F8','T4','T6','O2']\n",
    "hf = h5py.File('SauronData.h5', 'w')"
   ]
  },
  {
   "cell_type": "code",
   "execution_count": 36,
   "metadata": {},
   "outputs": [
    {
     "name": "stderr",
     "output_type": "stream",
     "text": [
      "  0%|          | 0/10 [00:00<?, ?it/s]"
     ]
    },
    {
     "name": "stderr",
     "output_type": "stream",
     "text": [
      " 10%|█         | 1/10 [00:12<01:49, 12.19s/it]\n"
     ]
    },
    {
     "ename": "FileNotFoundError",
     "evalue": "[Errno 2] Unable to synchronously open file (unable to open file: name = 'bdsp/opendata/EEG/data/S0001/cEEG/0003ecbceff1851d1c25d05d6bb02551fa1bf0b73bd040da9fd0c4686b057459_20190320_110917/0003ecbceff1851d1c25d05d6bb02551fa1bf0b73bd040da9fd0c4686b057459_1_20190320_110917.mat', errno = 2, error message = 'No such file or directory', flags = 0, o_flags = 0)",
     "output_type": "error",
     "traceback": [
      "\u001b[0;31m---------------------------------------------------------------------------\u001b[0m",
      "\u001b[0;31mFileNotFoundError\u001b[0m                         Traceback (most recent call last)",
      "\u001b[1;32m/home/ubuntu/SauronFileExtraction/extracting_events copy.ipynb Cell 6\u001b[0m line \u001b[0;36m2\n\u001b[1;32m     <a href='vscode-notebook-cell://ssh-remote%2Bbdsp_moving-data-to-dropbox_malkofer/home/ubuntu/SauronFileExtraction/extracting_events%20copy.ipynb#W5sdnNjb2RlLXJlbW90ZQ%3D%3D?line=25'>26</a>\u001b[0m \u001b[39mif\u001b[39;00m relative_event_time\u001b[39m>\u001b[39m\u001b[39m12\u001b[39m\u001b[39m*\u001b[39m\u001b[39m3600\u001b[39m:\n\u001b[1;32m     <a href='vscode-notebook-cell://ssh-remote%2Bbdsp_moving-data-to-dropbox_malkofer/home/ubuntu/SauronFileExtraction/extracting_events%20copy.ipynb#W5sdnNjb2RlLXJlbW90ZQ%3D%3D?line=26'>27</a>\u001b[0m     time_offset \u001b[39m=\u001b[39m \u001b[39m12\u001b[39m\u001b[39m*\u001b[39m\u001b[39m3600\u001b[39m\n\u001b[0;32m---> <a href='vscode-notebook-cell://ssh-remote%2Bbdsp_moving-data-to-dropbox_malkofer/home/ubuntu/SauronFileExtraction/extracting_events%20copy.ipynb#W5sdnNjb2RlLXJlbW90ZQ%3D%3D?line=27'>28</a>\u001b[0m     data,Fs,channels \u001b[39m=\u001b[39m process_EEG_file(root,SiteID,EEGFolder,HashFolderName,index\u001b[39m=\u001b[39;49m\u001b[39m1\u001b[39;49m)\n\u001b[1;32m     <a href='vscode-notebook-cell://ssh-remote%2Bbdsp_moving-data-to-dropbox_malkofer/home/ubuntu/SauronFileExtraction/extracting_events%20copy.ipynb#W5sdnNjb2RlLXJlbW90ZQ%3D%3D?line=29'>30</a>\u001b[0m \u001b[39m# get snippet from eeg file and save it somewhere\u001b[39;00m\n\u001b[1;32m     <a href='vscode-notebook-cell://ssh-remote%2Bbdsp_moving-data-to-dropbox_malkofer/home/ubuntu/SauronFileExtraction/extracting_events%20copy.ipynb#W5sdnNjb2RlLXJlbW90ZQ%3D%3D?line=30'>31</a>\u001b[0m snippet \u001b[39m=\u001b[39m get_event_snippet(data\u001b[39m=\u001b[39mdata,\n\u001b[1;32m     <a href='vscode-notebook-cell://ssh-remote%2Bbdsp_moving-data-to-dropbox_malkofer/home/ubuntu/SauronFileExtraction/extracting_events%20copy.ipynb#W5sdnNjb2RlLXJlbW90ZQ%3D%3D?line=31'>32</a>\u001b[0m                             relative_event_time\u001b[39m=\u001b[39mrelative_event_time,\n\u001b[1;32m     <a href='vscode-notebook-cell://ssh-remote%2Bbdsp_moving-data-to-dropbox_malkofer/home/ubuntu/SauronFileExtraction/extracting_events%20copy.ipynb#W5sdnNjb2RlLXJlbW90ZQ%3D%3D?line=32'>33</a>\u001b[0m                             windowsize\u001b[39m=\u001b[39mwindowsize,\n\u001b[1;32m     <a href='vscode-notebook-cell://ssh-remote%2Bbdsp_moving-data-to-dropbox_malkofer/home/ubuntu/SauronFileExtraction/extracting_events%20copy.ipynb#W5sdnNjb2RlLXJlbW90ZQ%3D%3D?line=33'>34</a>\u001b[0m                             all_channels\u001b[39m=\u001b[39mchannels,\n\u001b[1;32m     <a href='vscode-notebook-cell://ssh-remote%2Bbdsp_moving-data-to-dropbox_malkofer/home/ubuntu/SauronFileExtraction/extracting_events%20copy.ipynb#W5sdnNjb2RlLXJlbW90ZQ%3D%3D?line=34'>35</a>\u001b[0m                             desired_channels\u001b[39m=\u001b[39mdesired_channels,\n\u001b[1;32m     <a href='vscode-notebook-cell://ssh-remote%2Bbdsp_moving-data-to-dropbox_malkofer/home/ubuntu/SauronFileExtraction/extracting_events%20copy.ipynb#W5sdnNjb2RlLXJlbW90ZQ%3D%3D?line=35'>36</a>\u001b[0m                             Fs\u001b[39m=\u001b[39mFs)\n",
      "File \u001b[0;32m~/SauronFileExtraction/utils.py:35\u001b[0m, in \u001b[0;36mprocess_EEG_file\u001b[0;34m(root, SiteID, EEGFolder, HashFolderName, index)\u001b[0m\n\u001b[1;32m     32\u001b[0m filename \u001b[39m=\u001b[39m \u001b[39m'\u001b[39m\u001b[39m_\u001b[39m\u001b[39m'\u001b[39m\u001b[39m.\u001b[39mjoin([HashFolderName\u001b[39m.\u001b[39msplit(\u001b[39m'\u001b[39m\u001b[39m_\u001b[39m\u001b[39m'\u001b[39m)[\u001b[39m0\u001b[39m],\u001b[39mstr\u001b[39m(index)]\u001b[39m+\u001b[39mHashFolderName\u001b[39m.\u001b[39msplit(\u001b[39m'\u001b[39m\u001b[39m_\u001b[39m\u001b[39m'\u001b[39m)[\u001b[39m1\u001b[39m:\u001b[39m3\u001b[39m])\u001b[39m+\u001b[39m\u001b[39m'\u001b[39m\u001b[39m.mat\u001b[39m\u001b[39m'\u001b[39m\n\u001b[1;32m     34\u001b[0m \u001b[39m# load signal and data\u001b[39;00m\n\u001b[0;32m---> 35\u001b[0m signal \u001b[39m=\u001b[39m mat73\u001b[39m.\u001b[39;49mloadmat(root\u001b[39m+\u001b[39;49mpath\u001b[39m+\u001b[39;49mfilename)\n\u001b[1;32m     36\u001b[0m data\u001b[39m=\u001b[39msignal[\u001b[39m'\u001b[39m\u001b[39mdata\u001b[39m\u001b[39m'\u001b[39m]\n\u001b[1;32m     37\u001b[0m Fs\u001b[39m=\u001b[39msignal[\u001b[39m'\u001b[39m\u001b[39mFs\u001b[39m\u001b[39m'\u001b[39m]\n",
      "File \u001b[0;32m~/.local/lib/python3.10/site-packages/mat73/core.py:329\u001b[0m, in \u001b[0;36mloadmat\u001b[0;34m(file, use_attrdict, only_include, verbose)\u001b[0m\n\u001b[1;32m    325\u001b[0m         logging\u001b[39m.\u001b[39mwarning(\u001b[39m'\u001b[39m\u001b[39mCan only load MATLAB .mat file, this file type might \u001b[39m\u001b[39m'\u001b[39m\n\u001b[1;32m    326\u001b[0m                         \u001b[39mf\u001b[39m\u001b[39m'\u001b[39m\u001b[39mbe unsupported: \u001b[39m\u001b[39m{\u001b[39;00mfile\u001b[39m}\u001b[39;00m\u001b[39m'\u001b[39m)\n\u001b[1;32m    328\u001b[0m \u001b[39mtry\u001b[39;00m:\n\u001b[0;32m--> 329\u001b[0m     \u001b[39mwith\u001b[39;00m h5py\u001b[39m.\u001b[39;49mFile(file, \u001b[39m'\u001b[39;49m\u001b[39mr\u001b[39;49m\u001b[39m'\u001b[39;49m) \u001b[39mas\u001b[39;00m hdf5:\n\u001b[1;32m    330\u001b[0m         dictionary \u001b[39m=\u001b[39m decoder\u001b[39m.\u001b[39mmat2dict(hdf5)\n\u001b[1;32m    331\u001b[0m     \u001b[39mreturn\u001b[39;00m dictionary\n",
      "File \u001b[0;32m~/.local/lib/python3.10/site-packages/h5py/_hl/files.py:562\u001b[0m, in \u001b[0;36mFile.__init__\u001b[0;34m(self, name, mode, driver, libver, userblock_size, swmr, rdcc_nslots, rdcc_nbytes, rdcc_w0, track_order, fs_strategy, fs_persist, fs_threshold, fs_page_size, page_buf_size, min_meta_keep, min_raw_keep, locking, alignment_threshold, alignment_interval, meta_block_size, **kwds)\u001b[0m\n\u001b[1;32m    553\u001b[0m     fapl \u001b[39m=\u001b[39m make_fapl(driver, libver, rdcc_nslots, rdcc_nbytes, rdcc_w0,\n\u001b[1;32m    554\u001b[0m                      locking, page_buf_size, min_meta_keep, min_raw_keep,\n\u001b[1;32m    555\u001b[0m                      alignment_threshold\u001b[39m=\u001b[39malignment_threshold,\n\u001b[1;32m    556\u001b[0m                      alignment_interval\u001b[39m=\u001b[39malignment_interval,\n\u001b[1;32m    557\u001b[0m                      meta_block_size\u001b[39m=\u001b[39mmeta_block_size,\n\u001b[1;32m    558\u001b[0m                      \u001b[39m*\u001b[39m\u001b[39m*\u001b[39mkwds)\n\u001b[1;32m    559\u001b[0m     fcpl \u001b[39m=\u001b[39m make_fcpl(track_order\u001b[39m=\u001b[39mtrack_order, fs_strategy\u001b[39m=\u001b[39mfs_strategy,\n\u001b[1;32m    560\u001b[0m                      fs_persist\u001b[39m=\u001b[39mfs_persist, fs_threshold\u001b[39m=\u001b[39mfs_threshold,\n\u001b[1;32m    561\u001b[0m                      fs_page_size\u001b[39m=\u001b[39mfs_page_size)\n\u001b[0;32m--> 562\u001b[0m     fid \u001b[39m=\u001b[39m make_fid(name, mode, userblock_size, fapl, fcpl, swmr\u001b[39m=\u001b[39;49mswmr)\n\u001b[1;32m    564\u001b[0m \u001b[39mif\u001b[39;00m \u001b[39misinstance\u001b[39m(libver, \u001b[39mtuple\u001b[39m):\n\u001b[1;32m    565\u001b[0m     \u001b[39mself\u001b[39m\u001b[39m.\u001b[39m_libver \u001b[39m=\u001b[39m libver\n",
      "File \u001b[0;32m~/.local/lib/python3.10/site-packages/h5py/_hl/files.py:235\u001b[0m, in \u001b[0;36mmake_fid\u001b[0;34m(name, mode, userblock_size, fapl, fcpl, swmr)\u001b[0m\n\u001b[1;32m    233\u001b[0m     \u001b[39mif\u001b[39;00m swmr \u001b[39mand\u001b[39;00m swmr_support:\n\u001b[1;32m    234\u001b[0m         flags \u001b[39m|\u001b[39m\u001b[39m=\u001b[39m h5f\u001b[39m.\u001b[39mACC_SWMR_READ\n\u001b[0;32m--> 235\u001b[0m     fid \u001b[39m=\u001b[39m h5f\u001b[39m.\u001b[39;49mopen(name, flags, fapl\u001b[39m=\u001b[39;49mfapl)\n\u001b[1;32m    236\u001b[0m \u001b[39melif\u001b[39;00m mode \u001b[39m==\u001b[39m \u001b[39m'\u001b[39m\u001b[39mr+\u001b[39m\u001b[39m'\u001b[39m:\n\u001b[1;32m    237\u001b[0m     fid \u001b[39m=\u001b[39m h5f\u001b[39m.\u001b[39mopen(name, h5f\u001b[39m.\u001b[39mACC_RDWR, fapl\u001b[39m=\u001b[39mfapl)\n",
      "File \u001b[0;32mh5py/_objects.pyx:54\u001b[0m, in \u001b[0;36mh5py._objects.with_phil.wrapper\u001b[0;34m()\u001b[0m\n",
      "File \u001b[0;32mh5py/_objects.pyx:55\u001b[0m, in \u001b[0;36mh5py._objects.with_phil.wrapper\u001b[0;34m()\u001b[0m\n",
      "File \u001b[0;32mh5py/h5f.pyx:102\u001b[0m, in \u001b[0;36mh5py.h5f.open\u001b[0;34m()\u001b[0m\n",
      "\u001b[0;31mFileNotFoundError\u001b[0m: [Errno 2] Unable to synchronously open file (unable to open file: name = 'bdsp/opendata/EEG/data/S0001/cEEG/0003ecbceff1851d1c25d05d6bb02551fa1bf0b73bd040da9fd0c4686b057459_20190320_110917/0003ecbceff1851d1c25d05d6bb02551fa1bf0b73bd040da9fd0c4686b057459_1_20190320_110917.mat', errno = 2, error message = 'No such file or directory', flags = 0, o_flags = 0)"
     ]
    }
   ],
   "source": [
    "# process EEG file\n",
    "for HashFolderName in tqdm(df.HashFolderName.unique()[10:20]):\n",
    "    # get all events from same hashfolder\n",
    "    sub_df = df[df.HashFolderName==HashFolderName]\n",
    "    sub_df = sub_df.sort_values(by='relativeTime')\n",
    "\n",
    "    # get knowledge about file location\n",
    "    SiteID,EEGFolder,HashFolderName = sub_df.iloc[0][['SiteID','EEGFolder','HashFolderName']].to_list()\n",
    "    # load file and metadata\n",
    "    data,Fs,channels = process_EEG_file(root,SiteID,EEGFolder,HashFolderName,index=0)\n",
    "    \n",
    "    # catch some potential problems\n",
    "    if not 200 in Fs:\n",
    "        print(f'frequency is {Fs}, instead of the normal 200!')\n",
    "        break   \n",
    "    if not set(desired_channels).issubset(channels):\n",
    "        print(f'not all desired channels are present!\\n want: {desired_channels}\\n got: {channels}')\n",
    "        break\n",
    "\n",
    "    time_offset = 0\n",
    "    # save all events from the eeg file\n",
    "    for j in range(len(sub_df)):\n",
    "        # get time relative to beginning of file \n",
    "        relative_event_time = sub_df.iloc[j].relativeTime - time_offset\n",
    "        # load next file if relative event time > 12h, since engineers broke up the files!\n",
    "        if relative_event_time>12*3600:\n",
    "            time_offset = 12*3600\n",
    "            data,Fs,channels = process_EEG_file(root,SiteID,EEGFolder,HashFolderName,index=1)\n",
    "\n",
    "        # get snippet from eeg file and save it somewhere\n",
    "        snippet = get_event_snippet(data=data,\n",
    "                                    relative_event_time=relative_event_time,\n",
    "                                    windowsize=windowsize,\n",
    "                                    all_channels=channels,\n",
    "                                    desired_channels=desired_channels,\n",
    "                                    Fs=Fs)\n",
    "        name = HashFolderName+'_'+str(relative_event_time)+'.npy'\n",
    "        # save in h5py file\n",
    "        # hf.create_dataset(name=name,data=snippet,dtype='f4',compression='gzip')\n",
    "        np.save('test/'+name,snippet)"
   ]
  },
  {
   "cell_type": "code",
   "execution_count": 52,
   "metadata": {},
   "outputs": [
    {
     "data": {
      "text/plain": [
       "'03202019_230917'"
      ]
     },
     "execution_count": 52,
     "metadata": {},
     "output_type": "execute_result"
    }
   ],
   "source": [
    "(sub_df.iloc[0].startTime+timedelta(hours=12)).strftime(\"%m%d%Y_%H%M%S\")"
   ]
  },
  {
   "cell_type": "code",
   "execution_count": null,
   "metadata": {},
   "outputs": [],
   "source": [
    "0003ecbceff1851d1c25d05d6bb02551fa1bf0b73bd040da9fd0c4686b057459_1_20190320_110917\n",
    "0003ecbceff1851d1c25d05d6bb02551fa1bf0b73bd040da9fd0c4686b057459_1_20190320_230917"
   ]
  },
  {
   "cell_type": "code",
   "execution_count": null,
   "metadata": {},
   "outputs": [],
   "source": [
    "110917"
   ]
  }
 ],
 "metadata": {
  "kernelspec": {
   "display_name": "Python 3",
   "language": "python",
   "name": "python3"
  },
  "language_info": {
   "codemirror_mode": {
    "name": "ipython",
    "version": 3
   },
   "file_extension": ".py",
   "mimetype": "text/x-python",
   "name": "python",
   "nbconvert_exporter": "python",
   "pygments_lexer": "ipython3",
   "version": "3.10.12"
  }
 },
 "nbformat": 4,
 "nbformat_minor": 2
}
