{
 "cells": [
  {
   "cell_type": "code",
   "execution_count": 4,
   "metadata": {},
   "outputs": [],
   "source": [
    "import os\n",
    "import pandas as pd\n",
    "import mat73"
   ]
  },
  {
   "cell_type": "code",
   "execution_count": 5,
   "metadata": {},
   "outputs": [],
   "source": [
    "df = pd.read_excel('tables/batch1.xlsx')\n",
    "df = df.rename({'file':'HashFolderName'},axis=1)\n"
   ]
  },
  {
   "cell_type": "code",
   "execution_count": 6,
   "metadata": {},
   "outputs": [],
   "source": [
    "df_brandon = pd.read_csv('EEGs_And_Reports_20231024.csv')"
   ]
  },
  {
   "cell_type": "code",
   "execution_count": 7,
   "metadata": {},
   "outputs": [],
   "source": [
    "df=df.merge(df_brandon[['HashFolderName','SiteID','SessionID_new','EEGFolder']],on='HashFolderName')"
   ]
  },
  {
   "cell_type": "code",
   "execution_count": 8,
   "metadata": {},
   "outputs": [],
   "source": [
    "df = df.drop_duplicates(subset=['HashFolderName'])"
   ]
  },
  {
   "cell_type": "code",
   "execution_count": 9,
   "metadata": {},
   "outputs": [],
   "source": [
    "df = pd.read_csv('/home/ubuntu/work/tables/unique_hashfolder.csv')"
   ]
  },
  {
   "cell_type": "code",
   "execution_count": 10,
   "metadata": {},
   "outputs": [],
   "source": [
    "root = 'bdsp/opendata/EEG/data/'\n",
    "for i in range(len(df)):\n",
    "    x = df.iloc[i].copy()\n",
    "    path = f'{x.SiteID}/{x.EEGFolder}/{x.HashFolderName}/'\n",
    "    filename = '_'.join([x.HashFolderName.split('_')[0],'0']+x.HashFolderName.split('_')[1:3])+'.mat'\n",
    "    with open('eeg_files.txt', 'a') as f:\n",
    "        f.write(root+path+filename+'\\n')"
   ]
  },
  {
   "cell_type": "code",
   "execution_count": 11,
   "metadata": {},
   "outputs": [],
   "source": [
    "from tqdm import tqdm"
   ]
  },
  {
   "cell_type": "code",
   "execution_count": 12,
   "metadata": {},
   "outputs": [],
   "source": [
    "import os"
   ]
  },
  {
   "cell_type": "code",
   "execution_count": 13,
   "metadata": {},
   "outputs": [
    {
     "name": "stderr",
     "output_type": "stream",
     "text": [
      "  9%|▉         | 92/1000 [00:00<00:00, 919.54it/s]"
     ]
    },
    {
     "name": "stderr",
     "output_type": "stream",
     "text": [
      "100%|██████████| 1000/1000 [00:49<00:00, 20.09it/s] \n"
     ]
    }
   ],
   "source": [
    "sizes = []\n",
    "root = 'bdsp/opendata/EEG/data/'\n",
    "for i in tqdm(range(1000)):\n",
    "    x = df.iloc[i].copy()\n",
    "    path = f'{x.SiteID}/{x.EEGFolder}/{x.HashFolderName}/'\n",
    "    filename = '_'.join([x.HashFolderName.split('_')[0],'0']+x.HashFolderName.split('_')[1:3])+'.mat'\n",
    "    size = os.stat(root+path+filename).st_size\n",
    "    sizes.append(size)"
   ]
  },
  {
   "cell_type": "code",
   "execution_count": 22,
   "metadata": {},
   "outputs": [
    {
     "name": "stdout",
     "output_type": "stream",
     "text": [
      "moving all the files will cost 3248.25$\n"
     ]
    }
   ],
   "source": [
    "import numpy as np\n",
    "result = 80000 * np.mean(sizes)*1e-9 *0.09 #80k samples * mean size in gb * price in $/gp\n",
    "print(f'moving all the files will cost {result:.2f}$')"
   ]
  }
 ],
 "metadata": {
  "kernelspec": {
   "display_name": "Python 3",
   "language": "python",
   "name": "python3"
  },
  "language_info": {
   "codemirror_mode": {
    "name": "ipython",
    "version": 3
   },
   "file_extension": ".py",
   "mimetype": "text/x-python",
   "name": "python",
   "nbconvert_exporter": "python",
   "pygments_lexer": "ipython3",
   "version": "3.10.12"
  }
 },
 "nbformat": 4,
 "nbformat_minor": 2
}
