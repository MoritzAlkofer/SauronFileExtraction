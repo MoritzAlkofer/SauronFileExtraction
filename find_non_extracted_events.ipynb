{
 "cells": [
  {
   "cell_type": "code",
   "execution_count": 24,
   "metadata": {},
   "outputs": [],
   "source": [
    "import pandas as pd\n",
    "from utils import *\n",
    "from extract_files_from_mat import *"
   ]
  },
  {
   "cell_type": "code",
   "execution_count": 55,
   "metadata": {},
   "outputs": [
    {
     "name": "stdout",
     "output_type": "stream",
     "text": [
      "loading dataframes\n"
     ]
    }
   ],
   "source": [
    "\n",
    "df_eeg, df_event = load_dataframes('batch104')"
   ]
  },
  {
   "cell_type": "code",
   "execution_count": 59,
   "metadata": {},
   "outputs": [
    {
     "data": {
      "text/html": [
       "<div>\n",
       "<style scoped>\n",
       "    .dataframe tbody tr th:only-of-type {\n",
       "        vertical-align: middle;\n",
       "    }\n",
       "\n",
       "    .dataframe tbody tr th {\n",
       "        vertical-align: top;\n",
       "    }\n",
       "\n",
       "    .dataframe thead th {\n",
       "        text-align: right;\n",
       "    }\n",
       "</style>\n",
       "<table border=\"1\" class=\"dataframe\">\n",
       "  <thead>\n",
       "    <tr style=\"text-align: right;\">\n",
       "      <th></th>\n",
       "      <th>HashFolderName</th>\n",
       "      <th>SiteID</th>\n",
       "      <th>SessionID_new</th>\n",
       "      <th>EEGFolder</th>\n",
       "      <th>startTime</th>\n",
       "    </tr>\n",
       "  </thead>\n",
       "  <tbody>\n",
       "    <tr>\n",
       "      <th>4441</th>\n",
       "      <td>c76fc3d71e4e3e18c1a8a52391c7c0196f60efc869c285...</td>\n",
       "      <td>S0001</td>\n",
       "      <td>2</td>\n",
       "      <td>cEEG</td>\n",
       "      <td>2011-02-02 11:55:53</td>\n",
       "    </tr>\n",
       "    <tr>\n",
       "      <th>7413</th>\n",
       "      <td>c76fc3d71e4e3e18c1a8a52391c7c0196f60efc869c285...</td>\n",
       "      <td>S0001</td>\n",
       "      <td>20</td>\n",
       "      <td>rEEG</td>\n",
       "      <td>2017-07-17 11:18:01</td>\n",
       "    </tr>\n",
       "    <tr>\n",
       "      <th>7964</th>\n",
       "      <td>c76fc3d71e4e3e18c1a8a52391c7c0196f60efc869c285...</td>\n",
       "      <td>S0001</td>\n",
       "      <td>24</td>\n",
       "      <td>cEEG</td>\n",
       "      <td>2020-06-12 08:27:49</td>\n",
       "    </tr>\n",
       "    <tr>\n",
       "      <th>11237</th>\n",
       "      <td>c76fc3d71e4e3e18c1a8a52391c7c0196f60efc869c285...</td>\n",
       "      <td>S0001</td>\n",
       "      <td>4</td>\n",
       "      <td>cEEG</td>\n",
       "      <td>2011-01-25 14:09:17</td>\n",
       "    </tr>\n",
       "    <tr>\n",
       "      <th>13008</th>\n",
       "      <td>c76fc3d71e4e3e18c1a8a52391c7c0196f60efc869c285...</td>\n",
       "      <td>S0001</td>\n",
       "      <td>8</td>\n",
       "      <td>cEEG</td>\n",
       "      <td>2011-02-14 16:41:37</td>\n",
       "    </tr>\n",
       "    <tr>\n",
       "      <th>14402</th>\n",
       "      <td>c76fc3d71e4e3e18c1a8a52391c7c0196f60efc869c285...</td>\n",
       "      <td>S0001</td>\n",
       "      <td>14</td>\n",
       "      <td>cEEG</td>\n",
       "      <td>2013-09-26 15:59:43</td>\n",
       "    </tr>\n",
       "    <tr>\n",
       "      <th>32383</th>\n",
       "      <td>c76fc3d71e4e3e18c1a8a52391c7c0196f60efc869c285...</td>\n",
       "      <td>S0001</td>\n",
       "      <td>5</td>\n",
       "      <td>cEEG</td>\n",
       "      <td>2011-02-09 06:38:08</td>\n",
       "    </tr>\n",
       "    <tr>\n",
       "      <th>34186</th>\n",
       "      <td>c76fc3d71e4e3e18c1a8a52391c7c0196f60efc869c285...</td>\n",
       "      <td>S0001</td>\n",
       "      <td>6</td>\n",
       "      <td>cEEG</td>\n",
       "      <td>2011-02-09 11:02:13</td>\n",
       "    </tr>\n",
       "    <tr>\n",
       "      <th>40743</th>\n",
       "      <td>c76fc3d71e4e3e18c1a8a52391c7c0196f60efc869c285...</td>\n",
       "      <td>S0001</td>\n",
       "      <td>10</td>\n",
       "      <td>cEEG</td>\n",
       "      <td>2011-02-15 08:46:00</td>\n",
       "    </tr>\n",
       "    <tr>\n",
       "      <th>51260</th>\n",
       "      <td>c76fc3d71e4e3e18c1a8a52391c7c0196f60efc869c285...</td>\n",
       "      <td>S0001</td>\n",
       "      <td>3</td>\n",
       "      <td>cEEG</td>\n",
       "      <td>2011-01-26 12:05:10</td>\n",
       "    </tr>\n",
       "    <tr>\n",
       "      <th>60485</th>\n",
       "      <td>c76fc3d71e4e3e18c1a8a52391c7c0196f60efc869c285...</td>\n",
       "      <td>S0001</td>\n",
       "      <td>11</td>\n",
       "      <td>cEEG</td>\n",
       "      <td>2011-02-15 10:24:45</td>\n",
       "    </tr>\n",
       "    <tr>\n",
       "      <th>85387</th>\n",
       "      <td>c76fc3d71e4e3e18c1a8a52391c7c0196f60efc869c285...</td>\n",
       "      <td>S0001</td>\n",
       "      <td>1</td>\n",
       "      <td>cEEG</td>\n",
       "      <td>2011-01-26 09:42:19</td>\n",
       "    </tr>\n",
       "    <tr>\n",
       "      <th>97320</th>\n",
       "      <td>c76fc3d71e4e3e18c1a8a52391c7c0196f60efc869c285...</td>\n",
       "      <td>S0001</td>\n",
       "      <td>18</td>\n",
       "      <td>cEEG</td>\n",
       "      <td>2013-10-08 08:45:20</td>\n",
       "    </tr>\n",
       "    <tr>\n",
       "      <th>127375</th>\n",
       "      <td>c76fc3d71e4e3e18c1a8a52391c7c0196f60efc869c285...</td>\n",
       "      <td>S0001</td>\n",
       "      <td>17</td>\n",
       "      <td>cEEG</td>\n",
       "      <td>2013-12-12 09:02:47</td>\n",
       "    </tr>\n",
       "    <tr>\n",
       "      <th>135091</th>\n",
       "      <td>c76fc3d71e4e3e18c1a8a52391c7c0196f60efc869c285...</td>\n",
       "      <td>S0001</td>\n",
       "      <td>16</td>\n",
       "      <td>cEEG</td>\n",
       "      <td>2013-10-07 18:54:50</td>\n",
       "    </tr>\n",
       "    <tr>\n",
       "      <th>137352</th>\n",
       "      <td>c76fc3d71e4e3e18c1a8a52391c7c0196f60efc869c285...</td>\n",
       "      <td>S0001</td>\n",
       "      <td>21</td>\n",
       "      <td>cEEG</td>\n",
       "      <td>2020-06-12 08:35:24</td>\n",
       "    </tr>\n",
       "    <tr>\n",
       "      <th>158424</th>\n",
       "      <td>c76fc3d71e4e3e18c1a8a52391c7c0196f60efc869c285...</td>\n",
       "      <td>S0001</td>\n",
       "      <td>9</td>\n",
       "      <td>cEEG</td>\n",
       "      <td>2011-02-15 01:45:03</td>\n",
       "    </tr>\n",
       "    <tr>\n",
       "      <th>159815</th>\n",
       "      <td>c76fc3d71e4e3e18c1a8a52391c7c0196f60efc869c285...</td>\n",
       "      <td>S0001</td>\n",
       "      <td>19</td>\n",
       "      <td>cEEG</td>\n",
       "      <td>2013-10-08 15:43:16</td>\n",
       "    </tr>\n",
       "    <tr>\n",
       "      <th>171508</th>\n",
       "      <td>c76fc3d71e4e3e18c1a8a52391c7c0196f60efc869c285...</td>\n",
       "      <td>S0001</td>\n",
       "      <td>25</td>\n",
       "      <td>cEEG</td>\n",
       "      <td>2018-04-25 08:58:53</td>\n",
       "    </tr>\n",
       "    <tr>\n",
       "      <th>175455</th>\n",
       "      <td>c76fc3d71e4e3e18c1a8a52391c7c0196f60efc869c285...</td>\n",
       "      <td>S0001</td>\n",
       "      <td>22</td>\n",
       "      <td>cEEG</td>\n",
       "      <td>2018-04-24 22:02:25</td>\n",
       "    </tr>\n",
       "    <tr>\n",
       "      <th>201572</th>\n",
       "      <td>c76fc3d71e4e3e18c1a8a52391c7c0196f60efc869c285...</td>\n",
       "      <td>S0001</td>\n",
       "      <td>7</td>\n",
       "      <td>cEEG</td>\n",
       "      <td>2011-02-11 08:20:16</td>\n",
       "    </tr>\n",
       "    <tr>\n",
       "      <th>203791</th>\n",
       "      <td>c76fc3d71e4e3e18c1a8a52391c7c0196f60efc869c285...</td>\n",
       "      <td>S0001</td>\n",
       "      <td>23</td>\n",
       "      <td>cEEG</td>\n",
       "      <td>2018-04-24 22:38:09</td>\n",
       "    </tr>\n",
       "    <tr>\n",
       "      <th>213366</th>\n",
       "      <td>c76fc3d71e4e3e18c1a8a52391c7c0196f60efc869c285...</td>\n",
       "      <td>S0001</td>\n",
       "      <td>15</td>\n",
       "      <td>cEEG</td>\n",
       "      <td>2013-10-07 18:05:41</td>\n",
       "    </tr>\n",
       "    <tr>\n",
       "      <th>215327</th>\n",
       "      <td>c76fc3d71e4e3e18c1a8a52391c7c0196f60efc869c285...</td>\n",
       "      <td>S0001</td>\n",
       "      <td>13</td>\n",
       "      <td>cEEG</td>\n",
       "      <td>2013-09-26 10:25:02</td>\n",
       "    </tr>\n",
       "  </tbody>\n",
       "</table>\n",
       "</div>"
      ],
      "text/plain": [
       "                                           HashFolderName SiteID  \\\n",
       "4441    c76fc3d71e4e3e18c1a8a52391c7c0196f60efc869c285...  S0001   \n",
       "7413    c76fc3d71e4e3e18c1a8a52391c7c0196f60efc869c285...  S0001   \n",
       "7964    c76fc3d71e4e3e18c1a8a52391c7c0196f60efc869c285...  S0001   \n",
       "11237   c76fc3d71e4e3e18c1a8a52391c7c0196f60efc869c285...  S0001   \n",
       "13008   c76fc3d71e4e3e18c1a8a52391c7c0196f60efc869c285...  S0001   \n",
       "14402   c76fc3d71e4e3e18c1a8a52391c7c0196f60efc869c285...  S0001   \n",
       "32383   c76fc3d71e4e3e18c1a8a52391c7c0196f60efc869c285...  S0001   \n",
       "34186   c76fc3d71e4e3e18c1a8a52391c7c0196f60efc869c285...  S0001   \n",
       "40743   c76fc3d71e4e3e18c1a8a52391c7c0196f60efc869c285...  S0001   \n",
       "51260   c76fc3d71e4e3e18c1a8a52391c7c0196f60efc869c285...  S0001   \n",
       "60485   c76fc3d71e4e3e18c1a8a52391c7c0196f60efc869c285...  S0001   \n",
       "85387   c76fc3d71e4e3e18c1a8a52391c7c0196f60efc869c285...  S0001   \n",
       "97320   c76fc3d71e4e3e18c1a8a52391c7c0196f60efc869c285...  S0001   \n",
       "127375  c76fc3d71e4e3e18c1a8a52391c7c0196f60efc869c285...  S0001   \n",
       "135091  c76fc3d71e4e3e18c1a8a52391c7c0196f60efc869c285...  S0001   \n",
       "137352  c76fc3d71e4e3e18c1a8a52391c7c0196f60efc869c285...  S0001   \n",
       "158424  c76fc3d71e4e3e18c1a8a52391c7c0196f60efc869c285...  S0001   \n",
       "159815  c76fc3d71e4e3e18c1a8a52391c7c0196f60efc869c285...  S0001   \n",
       "171508  c76fc3d71e4e3e18c1a8a52391c7c0196f60efc869c285...  S0001   \n",
       "175455  c76fc3d71e4e3e18c1a8a52391c7c0196f60efc869c285...  S0001   \n",
       "201572  c76fc3d71e4e3e18c1a8a52391c7c0196f60efc869c285...  S0001   \n",
       "203791  c76fc3d71e4e3e18c1a8a52391c7c0196f60efc869c285...  S0001   \n",
       "213366  c76fc3d71e4e3e18c1a8a52391c7c0196f60efc869c285...  S0001   \n",
       "215327  c76fc3d71e4e3e18c1a8a52391c7c0196f60efc869c285...  S0001   \n",
       "\n",
       "        SessionID_new EEGFolder           startTime  \n",
       "4441                2      cEEG 2011-02-02 11:55:53  \n",
       "7413               20      rEEG 2017-07-17 11:18:01  \n",
       "7964               24      cEEG 2020-06-12 08:27:49  \n",
       "11237               4      cEEG 2011-01-25 14:09:17  \n",
       "13008               8      cEEG 2011-02-14 16:41:37  \n",
       "14402              14      cEEG 2013-09-26 15:59:43  \n",
       "32383               5      cEEG 2011-02-09 06:38:08  \n",
       "34186               6      cEEG 2011-02-09 11:02:13  \n",
       "40743              10      cEEG 2011-02-15 08:46:00  \n",
       "51260               3      cEEG 2011-01-26 12:05:10  \n",
       "60485              11      cEEG 2011-02-15 10:24:45  \n",
       "85387               1      cEEG 2011-01-26 09:42:19  \n",
       "97320              18      cEEG 2013-10-08 08:45:20  \n",
       "127375             17      cEEG 2013-12-12 09:02:47  \n",
       "135091             16      cEEG 2013-10-07 18:54:50  \n",
       "137352             21      cEEG 2020-06-12 08:35:24  \n",
       "158424              9      cEEG 2011-02-15 01:45:03  \n",
       "159815             19      cEEG 2013-10-08 15:43:16  \n",
       "171508             25      cEEG 2018-04-25 08:58:53  \n",
       "175455             22      cEEG 2018-04-24 22:02:25  \n",
       "201572              7      cEEG 2011-02-11 08:20:16  \n",
       "203791             23      cEEG 2018-04-24 22:38:09  \n",
       "213366             15      cEEG 2013-10-07 18:05:41  \n",
       "215327             13      cEEG 2013-09-26 10:25:02  "
      ]
     },
     "execution_count": 59,
     "metadata": {},
     "output_type": "execute_result"
    }
   ],
   "source": [
    "df_eeg[df_eeg.HashFolderName.str.contains('c76fc3d71e4e3e18c1a8a52391c7c0196f60efc869c285c1cc8bce3351509060')]\n",
    "#c76fc3d71e4e3e18c1a8a52391c7c0196f60efc869c285c1cc8bce3351509060_20110202_115553"
   ]
  },
  {
   "cell_type": "code",
   "execution_count": 33,
   "metadata": {},
   "outputs": [],
   "source": [
    "df=pd.read_excel('tables/batch103.xlsx')"
   ]
  },
  {
   "cell_type": "code",
   "execution_count": 34,
   "metadata": {},
   "outputs": [
    {
     "data": {
      "text/plain": [
       "188280"
      ]
     },
     "execution_count": 34,
     "metadata": {},
     "output_type": "execute_result"
    }
   ],
   "source": [
    "df.time.round('1s').nunique()"
   ]
  },
  {
   "cell_type": "code",
   "execution_count": 44,
   "metadata": {},
   "outputs": [],
   "source": [
    "df['save_name'] = df.apply(lambda row: get_save_name(row['file'], row['time']), axis=1)"
   ]
  },
  {
   "cell_type": "code",
   "execution_count": 50,
   "metadata": {},
   "outputs": [
    {
     "data": {
      "text/plain": [
       "706"
      ]
     },
     "execution_count": 50,
     "metadata": {},
     "output_type": "execute_result"
    }
   ],
   "source": [
    "df[~df.save_name.isin(x)].file.nunique()"
   ]
  },
  {
   "cell_type": "code",
   "execution_count": 1,
   "metadata": {},
   "outputs": [
    {
     "name": "stdout",
     "output_type": "stream",
     "text": [
      "112100\n"
     ]
    }
   ],
   "source": [
    "    import h5py\n",
    "    with h5py.File('data/batch104.h5', 'r') as f:\n",
    "        print(len(f.keys()))"
   ]
  },
  {
   "cell_type": "code",
   "execution_count": 41,
   "metadata": {},
   "outputs": [],
   "source": [
    "df['saveName']=df.file.str.split('_').str[0]+df.time.apply(lambda x: x.strftime('_%Y%m%d_%H%M%S'))+'.npy'"
   ]
  },
  {
   "cell_type": "code",
   "execution_count": null,
   "metadata": {},
   "outputs": [],
   "source": [
    "hf = h5py.File('batch2.h5', 'w')\n",
    "for f in files:\n",
    "    print(f)\n",
    "    data = np.load('batch2/' + f)\n",
    "    hf.create_dataset(f, data=data,dtype='f4',compression='gzip')"
   ]
  },
  {
   "cell_type": "code",
   "execution_count": 2,
   "metadata": {},
   "outputs": [],
   "source": [
    "import pandas as pd \n",
    "df_event = pd.read_excel('tables/batch2.xlsx')\n"
   ]
  },
  {
   "cell_type": "code",
   "execution_count": 9,
   "metadata": {},
   "outputs": [
    {
     "ename": "OSError",
     "evalue": "Unable to synchronously open file (bad object header version number)",
     "output_type": "error",
     "traceback": [
      "\u001b[0;31m---------------------------------------------------------------------------\u001b[0m",
      "\u001b[0;31mOSError\u001b[0m                                   Traceback (most recent call last)",
      "Cell \u001b[0;32mIn[9], line 1\u001b[0m\n\u001b[0;32m----> 1\u001b[0m hf \u001b[38;5;241m=\u001b[39m \u001b[43mh5py\u001b[49m\u001b[38;5;241;43m.\u001b[39;49m\u001b[43mFile\u001b[49m\u001b[43m(\u001b[49m\u001b[38;5;124;43m'\u001b[39;49m\u001b[38;5;124;43mdata/batch3.h5\u001b[39;49m\u001b[38;5;124;43m'\u001b[39;49m\u001b[43m,\u001b[49m\u001b[43m \u001b[49m\u001b[38;5;124;43m'\u001b[39;49m\u001b[38;5;124;43mr\u001b[39;49m\u001b[38;5;124;43m'\u001b[39;49m\u001b[43m)\u001b[49m\n",
      "File \u001b[0;32m~/SauronFileExtraction/venv/lib/python3.10/site-packages/h5py/_hl/files.py:562\u001b[0m, in \u001b[0;36mFile.__init__\u001b[0;34m(self, name, mode, driver, libver, userblock_size, swmr, rdcc_nslots, rdcc_nbytes, rdcc_w0, track_order, fs_strategy, fs_persist, fs_threshold, fs_page_size, page_buf_size, min_meta_keep, min_raw_keep, locking, alignment_threshold, alignment_interval, meta_block_size, **kwds)\u001b[0m\n\u001b[1;32m    553\u001b[0m     fapl \u001b[38;5;241m=\u001b[39m make_fapl(driver, libver, rdcc_nslots, rdcc_nbytes, rdcc_w0,\n\u001b[1;32m    554\u001b[0m                      locking, page_buf_size, min_meta_keep, min_raw_keep,\n\u001b[1;32m    555\u001b[0m                      alignment_threshold\u001b[38;5;241m=\u001b[39malignment_threshold,\n\u001b[1;32m    556\u001b[0m                      alignment_interval\u001b[38;5;241m=\u001b[39malignment_interval,\n\u001b[1;32m    557\u001b[0m                      meta_block_size\u001b[38;5;241m=\u001b[39mmeta_block_size,\n\u001b[1;32m    558\u001b[0m                      \u001b[38;5;241m*\u001b[39m\u001b[38;5;241m*\u001b[39mkwds)\n\u001b[1;32m    559\u001b[0m     fcpl \u001b[38;5;241m=\u001b[39m make_fcpl(track_order\u001b[38;5;241m=\u001b[39mtrack_order, fs_strategy\u001b[38;5;241m=\u001b[39mfs_strategy,\n\u001b[1;32m    560\u001b[0m                      fs_persist\u001b[38;5;241m=\u001b[39mfs_persist, fs_threshold\u001b[38;5;241m=\u001b[39mfs_threshold,\n\u001b[1;32m    561\u001b[0m                      fs_page_size\u001b[38;5;241m=\u001b[39mfs_page_size)\n\u001b[0;32m--> 562\u001b[0m     fid \u001b[38;5;241m=\u001b[39m \u001b[43mmake_fid\u001b[49m\u001b[43m(\u001b[49m\u001b[43mname\u001b[49m\u001b[43m,\u001b[49m\u001b[43m \u001b[49m\u001b[43mmode\u001b[49m\u001b[43m,\u001b[49m\u001b[43m \u001b[49m\u001b[43muserblock_size\u001b[49m\u001b[43m,\u001b[49m\u001b[43m \u001b[49m\u001b[43mfapl\u001b[49m\u001b[43m,\u001b[49m\u001b[43m \u001b[49m\u001b[43mfcpl\u001b[49m\u001b[43m,\u001b[49m\u001b[43m \u001b[49m\u001b[43mswmr\u001b[49m\u001b[38;5;241;43m=\u001b[39;49m\u001b[43mswmr\u001b[49m\u001b[43m)\u001b[49m\n\u001b[1;32m    564\u001b[0m \u001b[38;5;28;01mif\u001b[39;00m \u001b[38;5;28misinstance\u001b[39m(libver, \u001b[38;5;28mtuple\u001b[39m):\n\u001b[1;32m    565\u001b[0m     \u001b[38;5;28mself\u001b[39m\u001b[38;5;241m.\u001b[39m_libver \u001b[38;5;241m=\u001b[39m libver\n",
      "File \u001b[0;32m~/SauronFileExtraction/venv/lib/python3.10/site-packages/h5py/_hl/files.py:235\u001b[0m, in \u001b[0;36mmake_fid\u001b[0;34m(name, mode, userblock_size, fapl, fcpl, swmr)\u001b[0m\n\u001b[1;32m    233\u001b[0m     \u001b[38;5;28;01mif\u001b[39;00m swmr \u001b[38;5;129;01mand\u001b[39;00m swmr_support:\n\u001b[1;32m    234\u001b[0m         flags \u001b[38;5;241m|\u001b[39m\u001b[38;5;241m=\u001b[39m h5f\u001b[38;5;241m.\u001b[39mACC_SWMR_READ\n\u001b[0;32m--> 235\u001b[0m     fid \u001b[38;5;241m=\u001b[39m \u001b[43mh5f\u001b[49m\u001b[38;5;241;43m.\u001b[39;49m\u001b[43mopen\u001b[49m\u001b[43m(\u001b[49m\u001b[43mname\u001b[49m\u001b[43m,\u001b[49m\u001b[43m \u001b[49m\u001b[43mflags\u001b[49m\u001b[43m,\u001b[49m\u001b[43m \u001b[49m\u001b[43mfapl\u001b[49m\u001b[38;5;241;43m=\u001b[39;49m\u001b[43mfapl\u001b[49m\u001b[43m)\u001b[49m\n\u001b[1;32m    236\u001b[0m \u001b[38;5;28;01melif\u001b[39;00m mode \u001b[38;5;241m==\u001b[39m \u001b[38;5;124m'\u001b[39m\u001b[38;5;124mr+\u001b[39m\u001b[38;5;124m'\u001b[39m:\n\u001b[1;32m    237\u001b[0m     fid \u001b[38;5;241m=\u001b[39m h5f\u001b[38;5;241m.\u001b[39mopen(name, h5f\u001b[38;5;241m.\u001b[39mACC_RDWR, fapl\u001b[38;5;241m=\u001b[39mfapl)\n",
      "File \u001b[0;32mh5py/_objects.pyx:54\u001b[0m, in \u001b[0;36mh5py._objects.with_phil.wrapper\u001b[0;34m()\u001b[0m\n",
      "File \u001b[0;32mh5py/_objects.pyx:55\u001b[0m, in \u001b[0;36mh5py._objects.with_phil.wrapper\u001b[0;34m()\u001b[0m\n",
      "File \u001b[0;32mh5py/h5f.pyx:102\u001b[0m, in \u001b[0;36mh5py.h5f.open\u001b[0;34m()\u001b[0m\n",
      "\u001b[0;31mOSError\u001b[0m: Unable to synchronously open file (bad object header version number)"
     ]
    }
   ],
   "source": [
    "hf = h5py.File('data/batch3.h5', 'r')"
   ]
  },
  {
   "cell_type": "code",
   "execution_count": 8,
   "metadata": {},
   "outputs": [
    {
     "ename": "NameError",
     "evalue": "name 'hf' is not defined",
     "output_type": "error",
     "traceback": [
      "\u001b[0;31m---------------------------------------------------------------------------\u001b[0m",
      "\u001b[0;31mNameError\u001b[0m                                 Traceback (most recent call last)",
      "Cell \u001b[0;32mIn[8], line 1\u001b[0m\n\u001b[0;32m----> 1\u001b[0m \u001b[43mhf\u001b[49m\u001b[38;5;241m.\u001b[39mclose()\n",
      "\u001b[0;31mNameError\u001b[0m: name 'hf' is not defined"
     ]
    }
   ],
   "source": [
    "hf.close()"
   ]
  },
  {
   "cell_type": "code",
   "execution_count": 57,
   "metadata": {},
   "outputs": [],
   "source": [
    "df_event['saveName'] = df_event.file.str.split('_').str[0]+df_event.time.apply(lambda x: x.strftime('_%Y%m%d_%H%M%S'))+'.npy'"
   ]
  },
  {
   "cell_type": "code",
   "execution_count": 60,
   "metadata": {},
   "outputs": [],
   "source": [
    "df_missing = df_event[~df_event.saveName.isin(files)]\n",
    "df_missing.to_excel('tables/missing_batch2.xlsx', index=False)"
   ]
  },
  {
   "cell_type": "code",
   "execution_count": 64,
   "metadata": {},
   "outputs": [
    {
     "data": {
      "text/html": [
       "<div>\n",
       "<style scoped>\n",
       "    .dataframe tbody tr th:only-of-type {\n",
       "        vertical-align: middle;\n",
       "    }\n",
       "\n",
       "    .dataframe tbody tr th {\n",
       "        vertical-align: top;\n",
       "    }\n",
       "\n",
       "    .dataframe thead th {\n",
       "        text-align: right;\n",
       "    }\n",
       "</style>\n",
       "<table border=\"1\" class=\"dataframe\">\n",
       "  <thead>\n",
       "    <tr style=\"text-align: right;\">\n",
       "      <th></th>\n",
       "      <th>file</th>\n",
       "      <th>class</th>\n",
       "      <th>annotation</th>\n",
       "      <th>time</th>\n",
       "      <th>saveName</th>\n",
       "    </tr>\n",
       "  </thead>\n",
       "  <tbody>\n",
       "    <tr>\n",
       "      <th>1173</th>\n",
       "      <td>01f0de8935a73f0a65c0c8f0edb31fff19b3b53236c4d9...</td>\n",
       "      <td>ied</td>\n",
       "      <td>persyst,spike</td>\n",
       "      <td>2019-08-22 20:37:54</td>\n",
       "      <td>01f0de8935a73f0a65c0c8f0edb31fff19b3b53236c4d9...</td>\n",
       "    </tr>\n",
       "    <tr>\n",
       "      <th>1174</th>\n",
       "      <td>01f0de8935a73f0a65c0c8f0edb31fff19b3b53236c4d9...</td>\n",
       "      <td>ied</td>\n",
       "      <td>persyst,spike</td>\n",
       "      <td>2019-08-22 20:37:55</td>\n",
       "      <td>01f0de8935a73f0a65c0c8f0edb31fff19b3b53236c4d9...</td>\n",
       "    </tr>\n",
       "    <tr>\n",
       "      <th>1175</th>\n",
       "      <td>01f0de8935a73f0a65c0c8f0edb31fff19b3b53236c4d9...</td>\n",
       "      <td>ied</td>\n",
       "      <td>persyst,spike</td>\n",
       "      <td>2019-08-22 20:37:56</td>\n",
       "      <td>01f0de8935a73f0a65c0c8f0edb31fff19b3b53236c4d9...</td>\n",
       "    </tr>\n",
       "    <tr>\n",
       "      <th>1176</th>\n",
       "      <td>01f0de8935a73f0a65c0c8f0edb31fff19b3b53236c4d9...</td>\n",
       "      <td>ied</td>\n",
       "      <td>persyst,spike</td>\n",
       "      <td>2019-08-22 20:37:57</td>\n",
       "      <td>01f0de8935a73f0a65c0c8f0edb31fff19b3b53236c4d9...</td>\n",
       "    </tr>\n",
       "    <tr>\n",
       "      <th>1177</th>\n",
       "      <td>01f0de8935a73f0a65c0c8f0edb31fff19b3b53236c4d9...</td>\n",
       "      <td>ied</td>\n",
       "      <td>persyst,spike</td>\n",
       "      <td>2019-08-22 20:37:59</td>\n",
       "      <td>01f0de8935a73f0a65c0c8f0edb31fff19b3b53236c4d9...</td>\n",
       "    </tr>\n",
       "    <tr>\n",
       "      <th>...</th>\n",
       "      <td>...</td>\n",
       "      <td>...</td>\n",
       "      <td>...</td>\n",
       "      <td>...</td>\n",
       "      <td>...</td>\n",
       "    </tr>\n",
       "    <tr>\n",
       "      <th>2104</th>\n",
       "      <td>01f0de8935a73f0a65c0c8f0edb31fff19b3b53236c4d9...</td>\n",
       "      <td>ied</td>\n",
       "      <td>persyst,spike</td>\n",
       "      <td>2019-08-22 21:00:16</td>\n",
       "      <td>01f0de8935a73f0a65c0c8f0edb31fff19b3b53236c4d9...</td>\n",
       "    </tr>\n",
       "    <tr>\n",
       "      <th>2105</th>\n",
       "      <td>01f0de8935a73f0a65c0c8f0edb31fff19b3b53236c4d9...</td>\n",
       "      <td>ied</td>\n",
       "      <td>persyst,spike</td>\n",
       "      <td>2019-08-22 21:00:17</td>\n",
       "      <td>01f0de8935a73f0a65c0c8f0edb31fff19b3b53236c4d9...</td>\n",
       "    </tr>\n",
       "    <tr>\n",
       "      <th>2106</th>\n",
       "      <td>01f0de8935a73f0a65c0c8f0edb31fff19b3b53236c4d9...</td>\n",
       "      <td>ied</td>\n",
       "      <td>persyst,spike</td>\n",
       "      <td>2019-08-22 21:00:17</td>\n",
       "      <td>01f0de8935a73f0a65c0c8f0edb31fff19b3b53236c4d9...</td>\n",
       "    </tr>\n",
       "    <tr>\n",
       "      <th>2107</th>\n",
       "      <td>01f0de8935a73f0a65c0c8f0edb31fff19b3b53236c4d9...</td>\n",
       "      <td>ied</td>\n",
       "      <td>persyst,spike</td>\n",
       "      <td>2019-08-22 21:00:19</td>\n",
       "      <td>01f0de8935a73f0a65c0c8f0edb31fff19b3b53236c4d9...</td>\n",
       "    </tr>\n",
       "    <tr>\n",
       "      <th>2108</th>\n",
       "      <td>01f0de8935a73f0a65c0c8f0edb31fff19b3b53236c4d9...</td>\n",
       "      <td>ied</td>\n",
       "      <td>persyst,spike</td>\n",
       "      <td>2019-08-22 21:00:21</td>\n",
       "      <td>01f0de8935a73f0a65c0c8f0edb31fff19b3b53236c4d9...</td>\n",
       "    </tr>\n",
       "  </tbody>\n",
       "</table>\n",
       "<p>936 rows × 5 columns</p>\n",
       "</div>"
      ],
      "text/plain": [
       "                                                   file class     annotation  \\\n",
       "1173  01f0de8935a73f0a65c0c8f0edb31fff19b3b53236c4d9...   ied  persyst,spike   \n",
       "1174  01f0de8935a73f0a65c0c8f0edb31fff19b3b53236c4d9...   ied  persyst,spike   \n",
       "1175  01f0de8935a73f0a65c0c8f0edb31fff19b3b53236c4d9...   ied  persyst,spike   \n",
       "1176  01f0de8935a73f0a65c0c8f0edb31fff19b3b53236c4d9...   ied  persyst,spike   \n",
       "1177  01f0de8935a73f0a65c0c8f0edb31fff19b3b53236c4d9...   ied  persyst,spike   \n",
       "...                                                 ...   ...            ...   \n",
       "2104  01f0de8935a73f0a65c0c8f0edb31fff19b3b53236c4d9...   ied  persyst,spike   \n",
       "2105  01f0de8935a73f0a65c0c8f0edb31fff19b3b53236c4d9...   ied  persyst,spike   \n",
       "2106  01f0de8935a73f0a65c0c8f0edb31fff19b3b53236c4d9...   ied  persyst,spike   \n",
       "2107  01f0de8935a73f0a65c0c8f0edb31fff19b3b53236c4d9...   ied  persyst,spike   \n",
       "2108  01f0de8935a73f0a65c0c8f0edb31fff19b3b53236c4d9...   ied  persyst,spike   \n",
       "\n",
       "                    time                                           saveName  \n",
       "1173 2019-08-22 20:37:54  01f0de8935a73f0a65c0c8f0edb31fff19b3b53236c4d9...  \n",
       "1174 2019-08-22 20:37:55  01f0de8935a73f0a65c0c8f0edb31fff19b3b53236c4d9...  \n",
       "1175 2019-08-22 20:37:56  01f0de8935a73f0a65c0c8f0edb31fff19b3b53236c4d9...  \n",
       "1176 2019-08-22 20:37:57  01f0de8935a73f0a65c0c8f0edb31fff19b3b53236c4d9...  \n",
       "1177 2019-08-22 20:37:59  01f0de8935a73f0a65c0c8f0edb31fff19b3b53236c4d9...  \n",
       "...                  ...                                                ...  \n",
       "2104 2019-08-22 21:00:16  01f0de8935a73f0a65c0c8f0edb31fff19b3b53236c4d9...  \n",
       "2105 2019-08-22 21:00:17  01f0de8935a73f0a65c0c8f0edb31fff19b3b53236c4d9...  \n",
       "2106 2019-08-22 21:00:17  01f0de8935a73f0a65c0c8f0edb31fff19b3b53236c4d9...  \n",
       "2107 2019-08-22 21:00:19  01f0de8935a73f0a65c0c8f0edb31fff19b3b53236c4d9...  \n",
       "2108 2019-08-22 21:00:21  01f0de8935a73f0a65c0c8f0edb31fff19b3b53236c4d9...  \n",
       "\n",
       "[936 rows x 5 columns]"
      ]
     },
     "execution_count": 64,
     "metadata": {},
     "output_type": "execute_result"
    }
   ],
   "source": [
    "file = '01f0de8935a73f0a65c0c8f0edb31fff19b3b53236c4d9de66b8066e496ecf05_20190821_071441'\n",
    "df_missing[df_missing.file==file]"
   ]
  },
  {
   "cell_type": "code",
   "execution_count": 49,
   "metadata": {},
   "outputs": [
    {
     "data": {
      "text/plain": [
       "False"
      ]
     },
     "execution_count": 49,
     "metadata": {},
     "output_type": "execute_result"
    }
   ],
   "source": [
    "x =np.array([1,np.nan])\n",
    "np.isnan(x).all()\n"
   ]
  },
  {
   "cell_type": "code",
   "execution_count": 65,
   "metadata": {},
   "outputs": [
    {
     "name": "stdout",
     "output_type": "stream",
     "text": [
      "bdsp/opendata/EEG/data/S0001/cEEG/01f0de8935a73f0a65c0c8f0edb31fff19b3b53236c4d9de66b8066e496ecf05_20190821_071441\n",
      "['01f0de8935a73f0a65c0c8f0edb31fff19b3b53236c4d9de66b8066e496ecf05_0_20190821_071441.mat', '01f0de8935a73f0a65c0c8f0edb31fff19b3b53236c4d9de66b8066e496ecf05_1_20190821_191441.mat', '01f0de8935a73f0a65c0c8f0edb31fff19b3b53236c4d9de66b8066e496ecf05_20190821_071441.csv', '01f0de8935a73f0a65c0c8f0edb31fff19b3b53236c4d9de66b8066e496ecf05_20190821_071441_PersystSpikes.csv']\n"
     ]
    }
   ],
   "source": [
    "path ='bdsp/opendata/EEG/data/S0001/cEEG/01f0de8935a73f0a65c0c8f0edb31fff19b3b53236c4d9de66b8066e496ecf05_20190821_071441'\n",
    "print(path)\n",
    "print(os.listdir(path))\n"
   ]
  },
  {
   "cell_type": "code",
   "execution_count": 1,
   "metadata": {},
   "outputs": [
    {
     "ename": "NameError",
     "evalue": "name 'df_event' is not defined",
     "output_type": "error",
     "traceback": [
      "\u001b[0;31m---------------------------------------------------------------------------\u001b[0m",
      "\u001b[0;31mNameError\u001b[0m                                 Traceback (most recent call last)",
      "Cell \u001b[0;32mIn[1], line 1\u001b[0m\n\u001b[0;32m----> 1\u001b[0m \u001b[43mdf_event\u001b[49m\n",
      "\u001b[0;31mNameError\u001b[0m: name 'df_event' is not defined"
     ]
    }
   ],
   "source": [
    "df_event"
   ]
  },
  {
   "cell_type": "code",
   "execution_count": 34,
   "metadata": {},
   "outputs": [],
   "source": [
    "import mat73\n",
    "path_file = path+ '/01f0de8935a73f0a65c0c8f0edb31fff19b3b53236c4d9de66b8066e496ecf05_0_20190821_071441.mat'\n",
    "data = mat73.loadmat('bdsp/opendata/EEG/data/S0002/EEG/01f444755843e19255212b011907e2a114533733812ef8f84e4213972ab28496_20111012_113234/01f444755843e19255212b011907e2a114533733812ef8f84e4213972ab28496_0_20111012_113234.mat')"
   ]
  },
  {
   "cell_type": "code",
   "execution_count": 39,
   "metadata": {},
   "outputs": [
    {
     "data": {
      "text/plain": [
       "11.999998611111112"
      ]
     },
     "execution_count": 39,
     "metadata": {},
     "output_type": "execute_result"
    }
   ],
   "source": [
    "data['data'].shape[1]/200/3600"
   ]
  },
  {
   "cell_type": "code",
   "execution_count": 103,
   "metadata": {},
   "outputs": [
    {
     "data": {
      "text/plain": [
       "file          01f0de8935a73f0a65c0c8f0edb31fff19b3b53236c4d9...\n",
       "class                                                       ied\n",
       "annotation                                        persyst,spike\n",
       "time                                        2019-08-22 20:37:54\n",
       "saveName      01f0de8935a73f0a65c0c8f0edb31fff19b3b53236c4d9...\n",
       "Name: 1173, dtype: object"
      ]
     },
     "execution_count": 103,
     "metadata": {},
     "output_type": "execute_result"
    }
   ],
   "source": [
    "df_event[~df_event.saveName.isin(files)]"
   ]
  },
  {
   "cell_type": "code",
   "execution_count": 20,
   "metadata": {},
   "outputs": [],
   "source": [
    "import h5py\n",
    "hf = h5py.File('batch_2.h5', 'r')\n",
    "hf.keys()\n",
    "hf.close()"
   ]
  },
  {
   "cell_type": "code",
   "execution_count": 5,
   "metadata": {},
   "outputs": [],
   "source": [
    "df_event = pd.read_excel('tables/batch2.xlsx')\n",
    "df_event = df_event.rename({'file':'HashFolderName','time':'eventTime'},axis=1)\n",
    "    "
   ]
  },
  {
   "cell_type": "code",
   "execution_count": 31,
   "metadata": {},
   "outputs": [],
   "source": [
    "df_eeg = pd.read_csv('tables/EEGs_And_Reports_20231024.csv')[['HashFolderName','SiteID','SessionID_new','EEGFolder']]\n",
    "df_eeg['startTime'] = df_eeg.HashFolderName.apply(get_time_from_filename)"
   ]
  },
  {
   "cell_type": "code",
   "execution_count": 42,
   "metadata": {},
   "outputs": [],
   "source": [
    "eventTimes = df_event[df_event.HashFolderName == '01f0de8935a73f0a65c0c8f0edb31fff19b3b53236c4d9de66b8066e496ecf05_20190828_072657']['eventTime'].unique()\n",
    "        "
   ]
  },
  {
   "cell_type": "code",
   "execution_count": 49,
   "metadata": {},
   "outputs": [],
   "source": [
    "x = np.load('/home/ubuntu/SauronFileExtraction/test/01ec6ffcdd1e715c7f1aae76fac32d3537aa8c6dbb63d00f839db4cb173094cf_20190107_083019.npy')"
   ]
  },
  {
   "cell_type": "code",
   "execution_count": 56,
   "metadata": {},
   "outputs": [],
   "source": [
    "df = pd.read_csv('tables/BIDS_EEG_MGB_Deidentified_Lookup_5thDecember.csv')"
   ]
  },
  {
   "cell_type": "code",
   "execution_count": 7,
   "metadata": {},
   "outputs": [
    {
     "data": {
      "text/plain": [
       "900"
      ]
     },
     "execution_count": 7,
     "metadata": {},
     "output_type": "execute_result"
    }
   ],
   "source": [
    "df_event.HashFolderName.nunique()"
   ]
  },
  {
   "cell_type": "code",
   "execution_count": 15,
   "metadata": {},
   "outputs": [
    {
     "data": {
      "text/plain": [
       "44.748171162162166"
      ]
     },
     "execution_count": 15,
     "metadata": {},
     "output_type": "execute_result"
    }
   ],
   "source": [
    "import os\n",
    "os.path.getsize('SauronData.h5')*1e-9/14800*200000"
   ]
  },
  {
   "cell_type": "code",
   "execution_count": 11,
   "metadata": {},
   "outputs": [],
   "source": [
    "import h5py\n",
    "hf = h5py.File('SauronData.h5', 'r')"
   ]
  },
  {
   "cell_type": "code",
   "execution_count": 14,
   "metadata": {},
   "outputs": [
    {
     "data": {
      "text/plain": [
       "14841"
      ]
     },
     "execution_count": 14,
     "metadata": {},
     "output_type": "execute_result"
    }
   ],
   "source": [
    "len(hf.keys())"
   ]
  }
 ],
 "metadata": {
  "kernelspec": {
   "display_name": "Python 3",
   "language": "python",
   "name": "python3"
  },
  "language_info": {
   "codemirror_mode": {
    "name": "ipython",
    "version": 3
   },
   "file_extension": ".py",
   "mimetype": "text/x-python",
   "name": "python",
   "nbconvert_exporter": "python",
   "pygments_lexer": "ipython3",
   "version": "3.10.12"
  }
 },
 "nbformat": 4,
 "nbformat_minor": 2
}
