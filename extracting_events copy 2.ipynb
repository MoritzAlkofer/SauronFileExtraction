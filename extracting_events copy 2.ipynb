{
 "cells": [
  {
   "cell_type": "code",
   "execution_count": 2,
   "metadata": {},
   "outputs": [],
   "source": [
    "import pandas as pd\n",
    "import mat73\n",
    "from datetime import datetime,timedelta\n",
    "import numpy as np\n",
    "from tqdm import tqdm\n",
    "from utils import *\n",
    "import h5py"
   ]
  },
  {
   "cell_type": "code",
   "execution_count": 3,
   "metadata": {},
   "outputs": [],
   "source": [
    "df_brandon = pd.read_csv('work_tables/EEGs_And_Reports_20231024.csv')"
   ]
  },
  {
   "cell_type": "code",
   "execution_count": 4,
   "metadata": {},
   "outputs": [],
   "source": [
    "df = pd.read_excel('tables/batch1.xlsx')\n",
    "df = df.rename({'file':'HashFolderName'},axis=1)\n",
    "df = df.rename({'time':'eventTime'},axis=1)\n",
    "df=df.merge(df_brandon[['HashFolderName','SiteID','SessionID_new','EEGFolder']],on='HashFolderName')\n",
    "\n",
    "# generate event time relative to event start\n",
    "df['startTime'] = df.HashFolderName.apply(get_time_from_filename)\n",
    "df['relativeTime'] = ((df.eventTime-df.startTime).dt.total_seconds()).astype(int)"
   ]
  },
  {
   "cell_type": "code",
   "execution_count": 5,
   "metadata": {},
   "outputs": [],
   "source": [
    "# df[['HashFolderName', 'class', 'annotation', 'eventTime', 'startTime', 'relativeTime']].to_excel('tables_with_relative_time/batch1.xlsx',index=False)"
   ]
  },
  {
   "cell_type": "code",
   "execution_count": 6,
   "metadata": {},
   "outputs": [],
   "source": [
    "# process dataframe\n",
    "root = 'bdsp/opendata/EEG/data/'\n",
    "windowsize = 15\n",
    "desired_channels= ['Fp1','F3','C3','P3','F7','T3','T5','O1','Fz','Cz','Pz','Fp2','F4','C4','P4','F8','T4','T6','O2']\n",
    "                  \n",
    "hf = h5py.File('SauronData.h5', 'w')"
   ]
  },
  {
   "cell_type": "code",
   "execution_count": 7,
   "metadata": {},
   "outputs": [],
   "source": [
    "def process_EEG_file(root,SiteID,EEGFolder,HashFolderName,eeg_start_time,next=True):\n",
    "    # generate path to file and filename\n",
    "    path = SiteID+'/'+EEGFolder+'/'+HashFolderName+'/'\n",
    "    index=0\n",
    "    # insert 0 to create Hashfoldername_0_date_time\n",
    "    if next:\n",
    "        eeg_start_time = eeg_start_time+timedelta(hours=12)\n",
    "        index = 1\n",
    "    eeg_start_time_str = datetime.strftime(eeg_start_time,'%Y%m%d_%H%M%S')\n",
    "    filename = '_'.join([HashFolderName.split('_')[0],str(index),eeg_start_time_str])+'.mat'\n",
    "    \n",
    "    # load signal and data\n",
    "    signal = mat73.loadmat(root+path+filename)\n",
    "    data=signal['data']\n",
    "    Fs=signal['Fs']\n",
    "    channels=signal['channels']\n",
    "\n",
    "    return data,Fs,channels"
   ]
  },
  {
   "cell_type": "code",
   "execution_count": 8,
   "metadata": {},
   "outputs": [
    {
     "name": "stderr",
     "output_type": "stream",
     "text": [
      "  0%|          | 0/80 [00:00<?, ?it/s]"
     ]
    },
    {
     "name": "stderr",
     "output_type": "stream",
     "text": [
      "  9%|▉         | 7/80 [00:17<02:58,  2.45s/it]"
     ]
    },
    {
     "name": "stdout",
     "output_type": "stream",
     "text": [
      "data shape in seconds 43200.0\n",
      "relative time in seconds 68197\n"
     ]
    },
    {
     "name": "stderr",
     "output_type": "stream",
     "text": []
    },
    {
     "name": "stdout",
     "output_type": "stream",
     "text": [
      "data shape in seconds 42513.58\n",
      "relative time in seconds 68197\n"
     ]
    },
    {
     "name": "stderr",
     "output_type": "stream",
     "text": []
    },
    {
     "name": "stdout",
     "output_type": "stream",
     "text": [
      "data shape in seconds 42513.58\n",
      "relative time in seconds 68197\n"
     ]
    },
    {
     "name": "stderr",
     "output_type": "stream",
     "text": []
    },
    {
     "name": "stdout",
     "output_type": "stream",
     "text": [
      "data shape in seconds 42513.58\n",
      "relative time in seconds 68197\n"
     ]
    },
    {
     "name": "stderr",
     "output_type": "stream",
     "text": []
    },
    {
     "name": "stdout",
     "output_type": "stream",
     "text": [
      "data shape in seconds 42513.58\n",
      "relative time in seconds 68203\n"
     ]
    },
    {
     "name": "stderr",
     "output_type": "stream",
     "text": []
    },
    {
     "name": "stdout",
     "output_type": "stream",
     "text": [
      "data shape in seconds 42513.58\n",
      "relative time in seconds 68203\n"
     ]
    },
    {
     "name": "stderr",
     "output_type": "stream",
     "text": []
    },
    {
     "name": "stdout",
     "output_type": "stream",
     "text": [
      "data shape in seconds 42513.58\n",
      "relative time in seconds 68217\n"
     ]
    },
    {
     "name": "stderr",
     "output_type": "stream",
     "text": []
    },
    {
     "name": "stdout",
     "output_type": "stream",
     "text": [
      "data shape in seconds 42513.58\n",
      "relative time in seconds 68217\n"
     ]
    },
    {
     "name": "stderr",
     "output_type": "stream",
     "text": []
    },
    {
     "name": "stdout",
     "output_type": "stream",
     "text": [
      "data shape in seconds 42513.58\n",
      "relative time in seconds 68221\n"
     ]
    },
    {
     "name": "stderr",
     "output_type": "stream",
     "text": []
    },
    {
     "name": "stdout",
     "output_type": "stream",
     "text": [
      "data shape in seconds 42513.58\n",
      "relative time in seconds 68221\n"
     ]
    },
    {
     "name": "stderr",
     "output_type": "stream",
     "text": []
    },
    {
     "name": "stdout",
     "output_type": "stream",
     "text": [
      "data shape in seconds 42513.58\n",
      "relative time in seconds 68227\n"
     ]
    },
    {
     "name": "stderr",
     "output_type": "stream",
     "text": []
    },
    {
     "name": "stdout",
     "output_type": "stream",
     "text": [
      "data shape in seconds 42513.58\n",
      "relative time in seconds 68227\n"
     ]
    },
    {
     "name": "stderr",
     "output_type": "stream",
     "text": []
    },
    {
     "name": "stdout",
     "output_type": "stream",
     "text": [
      "data shape in seconds 42513.58\n",
      "relative time in seconds 68229\n"
     ]
    },
    {
     "name": "stderr",
     "output_type": "stream",
     "text": []
    },
    {
     "name": "stdout",
     "output_type": "stream",
     "text": [
      "data shape in seconds 42513.58\n",
      "relative time in seconds 68229\n"
     ]
    },
    {
     "name": "stderr",
     "output_type": "stream",
     "text": []
    },
    {
     "name": "stdout",
     "output_type": "stream",
     "text": [
      "data shape in seconds 42513.58\n",
      "relative time in seconds 68233\n"
     ]
    },
    {
     "name": "stderr",
     "output_type": "stream",
     "text": []
    },
    {
     "name": "stdout",
     "output_type": "stream",
     "text": [
      "data shape in seconds 42513.58\n",
      "relative time in seconds 68233\n"
     ]
    },
    {
     "name": "stderr",
     "output_type": "stream",
     "text": []
    },
    {
     "name": "stdout",
     "output_type": "stream",
     "text": [
      "data shape in seconds 42513.58\n",
      "relative time in seconds 68235\n"
     ]
    },
    {
     "name": "stderr",
     "output_type": "stream",
     "text": []
    },
    {
     "name": "stdout",
     "output_type": "stream",
     "text": [
      "data shape in seconds 42513.58\n",
      "relative time in seconds 68235\n"
     ]
    },
    {
     "name": "stderr",
     "output_type": "stream",
     "text": []
    },
    {
     "name": "stdout",
     "output_type": "stream",
     "text": [
      "data shape in seconds 42513.58\n",
      "relative time in seconds 68237\n"
     ]
    },
    {
     "name": "stderr",
     "output_type": "stream",
     "text": []
    },
    {
     "name": "stdout",
     "output_type": "stream",
     "text": [
      "data shape in seconds 42513.58\n",
      "relative time in seconds 68237\n"
     ]
    },
    {
     "name": "stderr",
     "output_type": "stream",
     "text": []
    },
    {
     "name": "stdout",
     "output_type": "stream",
     "text": [
      "data shape in seconds 42513.58\n",
      "relative time in seconds 68240\n"
     ]
    },
    {
     "name": "stderr",
     "output_type": "stream",
     "text": []
    },
    {
     "name": "stdout",
     "output_type": "stream",
     "text": [
      "data shape in seconds 42513.58\n",
      "relative time in seconds 68240\n"
     ]
    },
    {
     "name": "stderr",
     "output_type": "stream",
     "text": []
    },
    {
     "name": "stdout",
     "output_type": "stream",
     "text": [
      "data shape in seconds 42513.58\n",
      "relative time in seconds 68242\n"
     ]
    },
    {
     "name": "stderr",
     "output_type": "stream",
     "text": []
    },
    {
     "name": "stdout",
     "output_type": "stream",
     "text": [
      "data shape in seconds 42513.58\n",
      "relative time in seconds 68242\n"
     ]
    },
    {
     "name": "stderr",
     "output_type": "stream",
     "text": []
    },
    {
     "name": "stdout",
     "output_type": "stream",
     "text": [
      "data shape in seconds 42513.58\n",
      "relative time in seconds 68251\n"
     ]
    },
    {
     "name": "stderr",
     "output_type": "stream",
     "text": []
    },
    {
     "name": "stdout",
     "output_type": "stream",
     "text": [
      "data shape in seconds 42513.58\n",
      "relative time in seconds 68251\n"
     ]
    },
    {
     "name": "stderr",
     "output_type": "stream",
     "text": []
    },
    {
     "name": "stdout",
     "output_type": "stream",
     "text": [
      "data shape in seconds 42513.58\n",
      "relative time in seconds 68253\n"
     ]
    },
    {
     "name": "stderr",
     "output_type": "stream",
     "text": []
    },
    {
     "name": "stdout",
     "output_type": "stream",
     "text": [
      "data shape in seconds 42513.58\n",
      "relative time in seconds 68253\n"
     ]
    },
    {
     "name": "stderr",
     "output_type": "stream",
     "text": []
    },
    {
     "name": "stdout",
     "output_type": "stream",
     "text": [
      "data shape in seconds 42513.58\n",
      "relative time in seconds 68254\n"
     ]
    },
    {
     "name": "stderr",
     "output_type": "stream",
     "text": []
    },
    {
     "name": "stdout",
     "output_type": "stream",
     "text": [
      "data shape in seconds 42513.58\n",
      "relative time in seconds 68254\n"
     ]
    },
    {
     "name": "stderr",
     "output_type": "stream",
     "text": []
    },
    {
     "name": "stdout",
     "output_type": "stream",
     "text": [
      "data shape in seconds 42513.58\n",
      "relative time in seconds 68260\n"
     ]
    },
    {
     "name": "stderr",
     "output_type": "stream",
     "text": []
    },
    {
     "name": "stdout",
     "output_type": "stream",
     "text": [
      "data shape in seconds 42513.58\n",
      "relative time in seconds 68260\n"
     ]
    },
    {
     "name": "stderr",
     "output_type": "stream",
     "text": []
    },
    {
     "name": "stdout",
     "output_type": "stream",
     "text": [
      "data shape in seconds 42513.58\n",
      "relative time in seconds 68266\n"
     ]
    },
    {
     "name": "stderr",
     "output_type": "stream",
     "text": []
    },
    {
     "name": "stdout",
     "output_type": "stream",
     "text": [
      "data shape in seconds 42513.58\n",
      "relative time in seconds 68266\n"
     ]
    },
    {
     "name": "stderr",
     "output_type": "stream",
     "text": []
    },
    {
     "name": "stdout",
     "output_type": "stream",
     "text": [
      "data shape in seconds 42513.58\n",
      "relative time in seconds 68267\n"
     ]
    },
    {
     "name": "stderr",
     "output_type": "stream",
     "text": []
    },
    {
     "name": "stdout",
     "output_type": "stream",
     "text": [
      "data shape in seconds 42513.58\n",
      "relative time in seconds 68267\n"
     ]
    },
    {
     "name": "stderr",
     "output_type": "stream",
     "text": []
    },
    {
     "name": "stdout",
     "output_type": "stream",
     "text": [
      "data shape in seconds 42513.58\n",
      "relative time in seconds 68269\n"
     ]
    },
    {
     "name": "stderr",
     "output_type": "stream",
     "text": [
      "  9%|▉         | 7/80 [07:15<1:15:45, 62.27s/it]\n"
     ]
    },
    {
     "ename": "KeyboardInterrupt",
     "evalue": "",
     "output_type": "error",
     "traceback": [
      "\u001b[0;31m---------------------------------------------------------------------------\u001b[0m",
      "\u001b[0;31mKeyboardInterrupt\u001b[0m                         Traceback (most recent call last)",
      "\u001b[1;32m/home/ubuntu/SauronFileExtraction/extracting_events copy 2.ipynb Cell 7\u001b[0m line \u001b[0;36m2\n\u001b[1;32m     <a href='vscode-notebook-cell://ssh-remote%2Bbdsp_moving-data-to-dropbox_malkofer/home/ubuntu/SauronFileExtraction/extracting_events%20copy%202.ipynb#W6sdnNjb2RlLXJlbW90ZQ%3D%3D?line=24'>25</a>\u001b[0m     \u001b[39mprint\u001b[39m(\u001b[39mf\u001b[39m\u001b[39m'\u001b[39m\u001b[39mdata shape in seconds \u001b[39m\u001b[39m{\u001b[39;00mdata\u001b[39m.\u001b[39mshape[\u001b[39m1\u001b[39m]\u001b[39m/\u001b[39m\u001b[39m200\u001b[39m\u001b[39m}\u001b[39;00m\u001b[39m'\u001b[39m)\n\u001b[1;32m     <a href='vscode-notebook-cell://ssh-remote%2Bbdsp_moving-data-to-dropbox_malkofer/home/ubuntu/SauronFileExtraction/extracting_events%20copy%202.ipynb#W6sdnNjb2RlLXJlbW90ZQ%3D%3D?line=25'>26</a>\u001b[0m     \u001b[39mprint\u001b[39m(\u001b[39mf\u001b[39m\u001b[39m'\u001b[39m\u001b[39mrelative time in seconds \u001b[39m\u001b[39m{\u001b[39;00mrelativeTime\u001b[39m}\u001b[39;00m\u001b[39m'\u001b[39m)\n\u001b[0;32m---> <a href='vscode-notebook-cell://ssh-remote%2Bbdsp_moving-data-to-dropbox_malkofer/home/ubuntu/SauronFileExtraction/extracting_events%20copy%202.ipynb#W6sdnNjb2RlLXJlbW90ZQ%3D%3D?line=26'>27</a>\u001b[0m     data,Fs,available_channels \u001b[39m=\u001b[39m process_EEG_file(root,SiteID,EEGFolder,HashFolderName,eeg_start_time,\u001b[39mnext\u001b[39;49m\u001b[39m=\u001b[39;49m\u001b[39mTrue\u001b[39;49;00m)\n\u001b[1;32m     <a href='vscode-notebook-cell://ssh-remote%2Bbdsp_moving-data-to-dropbox_malkofer/home/ubuntu/SauronFileExtraction/extracting_events%20copy%202.ipynb#W6sdnNjb2RlLXJlbW90ZQ%3D%3D?line=27'>28</a>\u001b[0m \u001b[39m# get snippet from eeg file and save it somewhere\u001b[39;00m\n\u001b[1;32m     <a href='vscode-notebook-cell://ssh-remote%2Bbdsp_moving-data-to-dropbox_malkofer/home/ubuntu/SauronFileExtraction/extracting_events%20copy%202.ipynb#W6sdnNjb2RlLXJlbW90ZQ%3D%3D?line=28'>29</a>\u001b[0m snippet \u001b[39m=\u001b[39m get_right_event_time(data\u001b[39m=\u001b[39mdata,\n\u001b[1;32m     <a href='vscode-notebook-cell://ssh-remote%2Bbdsp_moving-data-to-dropbox_malkofer/home/ubuntu/SauronFileExtraction/extracting_events%20copy%202.ipynb#W6sdnNjb2RlLXJlbW90ZQ%3D%3D?line=29'>30</a>\u001b[0m                             relative_event_time\u001b[39m=\u001b[39mrelativeTime,\n\u001b[1;32m     <a href='vscode-notebook-cell://ssh-remote%2Bbdsp_moving-data-to-dropbox_malkofer/home/ubuntu/SauronFileExtraction/extracting_events%20copy%202.ipynb#W6sdnNjb2RlLXJlbW90ZQ%3D%3D?line=30'>31</a>\u001b[0m                             windowsize\u001b[39m=\u001b[39mwindowsize,\n\u001b[1;32m     <a href='vscode-notebook-cell://ssh-remote%2Bbdsp_moving-data-to-dropbox_malkofer/home/ubuntu/SauronFileExtraction/extracting_events%20copy%202.ipynb#W6sdnNjb2RlLXJlbW90ZQ%3D%3D?line=31'>32</a>\u001b[0m                             Fs\u001b[39m=\u001b[39mFs)\n",
      "\u001b[1;32m/home/ubuntu/SauronFileExtraction/extracting_events copy 2.ipynb Cell 7\u001b[0m line \u001b[0;36m1\n\u001b[1;32m     <a href='vscode-notebook-cell://ssh-remote%2Bbdsp_moving-data-to-dropbox_malkofer/home/ubuntu/SauronFileExtraction/extracting_events%20copy%202.ipynb#W6sdnNjb2RlLXJlbW90ZQ%3D%3D?line=9'>10</a>\u001b[0m filename \u001b[39m=\u001b[39m \u001b[39m'\u001b[39m\u001b[39m_\u001b[39m\u001b[39m'\u001b[39m\u001b[39m.\u001b[39mjoin([HashFolderName\u001b[39m.\u001b[39msplit(\u001b[39m'\u001b[39m\u001b[39m_\u001b[39m\u001b[39m'\u001b[39m)[\u001b[39m0\u001b[39m],\u001b[39mstr\u001b[39m(index),eeg_start_time_str])\u001b[39m+\u001b[39m\u001b[39m'\u001b[39m\u001b[39m.mat\u001b[39m\u001b[39m'\u001b[39m\n\u001b[1;32m     <a href='vscode-notebook-cell://ssh-remote%2Bbdsp_moving-data-to-dropbox_malkofer/home/ubuntu/SauronFileExtraction/extracting_events%20copy%202.ipynb#W6sdnNjb2RlLXJlbW90ZQ%3D%3D?line=11'>12</a>\u001b[0m \u001b[39m# load signal and data\u001b[39;00m\n\u001b[0;32m---> <a href='vscode-notebook-cell://ssh-remote%2Bbdsp_moving-data-to-dropbox_malkofer/home/ubuntu/SauronFileExtraction/extracting_events%20copy%202.ipynb#W6sdnNjb2RlLXJlbW90ZQ%3D%3D?line=12'>13</a>\u001b[0m signal \u001b[39m=\u001b[39m mat73\u001b[39m.\u001b[39;49mloadmat(root\u001b[39m+\u001b[39;49mpath\u001b[39m+\u001b[39;49mfilename)\n\u001b[1;32m     <a href='vscode-notebook-cell://ssh-remote%2Bbdsp_moving-data-to-dropbox_malkofer/home/ubuntu/SauronFileExtraction/extracting_events%20copy%202.ipynb#W6sdnNjb2RlLXJlbW90ZQ%3D%3D?line=13'>14</a>\u001b[0m data\u001b[39m=\u001b[39msignal[\u001b[39m'\u001b[39m\u001b[39mdata\u001b[39m\u001b[39m'\u001b[39m]\n\u001b[1;32m     <a href='vscode-notebook-cell://ssh-remote%2Bbdsp_moving-data-to-dropbox_malkofer/home/ubuntu/SauronFileExtraction/extracting_events%20copy%202.ipynb#W6sdnNjb2RlLXJlbW90ZQ%3D%3D?line=14'>15</a>\u001b[0m Fs\u001b[39m=\u001b[39msignal[\u001b[39m'\u001b[39m\u001b[39mFs\u001b[39m\u001b[39m'\u001b[39m]\n",
      "File \u001b[0;32m~/.local/lib/python3.10/site-packages/mat73/core.py:330\u001b[0m, in \u001b[0;36mloadmat\u001b[0;34m(file, use_attrdict, only_include, verbose)\u001b[0m\n\u001b[1;32m    328\u001b[0m \u001b[39mtry\u001b[39;00m:\n\u001b[1;32m    329\u001b[0m     \u001b[39mwith\u001b[39;00m h5py\u001b[39m.\u001b[39mFile(file, \u001b[39m'\u001b[39m\u001b[39mr\u001b[39m\u001b[39m'\u001b[39m) \u001b[39mas\u001b[39;00m hdf5:\n\u001b[0;32m--> 330\u001b[0m         dictionary \u001b[39m=\u001b[39m decoder\u001b[39m.\u001b[39;49mmat2dict(hdf5)\n\u001b[1;32m    331\u001b[0m     \u001b[39mreturn\u001b[39;00m dictionary\n\u001b[1;32m    332\u001b[0m \u001b[39mexcept\u001b[39;00m \u001b[39mFileNotFoundError\u001b[39;00m:\n",
      "File \u001b[0;32m~/.local/lib/python3.10/site-packages/mat73/core.py:93\u001b[0m, in \u001b[0;36mHDF5Decoder.mat2dict\u001b[0;34m(self, hdf5)\u001b[0m\n\u001b[1;32m     91\u001b[0m     \u001b[39mif\u001b[39;00m \u001b[39mnot\u001b[39;00m \u001b[39mself\u001b[39m\u001b[39m.\u001b[39mis_included(hdf5[var]):\n\u001b[1;32m     92\u001b[0m         \u001b[39mcontinue\u001b[39;00m\n\u001b[0;32m---> 93\u001b[0m     d[var] \u001b[39m=\u001b[39m \u001b[39mself\u001b[39;49m\u001b[39m.\u001b[39;49munpack_mat(hdf5[var])\n\u001b[1;32m     95\u001b[0m \u001b[39mif\u001b[39;00m \u001b[39mself\u001b[39m\u001b[39m.\u001b[39monly_include \u001b[39mis\u001b[39;00m \u001b[39mnot\u001b[39;00m \u001b[39mNone\u001b[39;00m:\n\u001b[1;32m     96\u001b[0m     \u001b[39mfor\u001b[39;00m var, found \u001b[39min\u001b[39;00m \u001b[39mself\u001b[39m\u001b[39m.\u001b[39m_found_include_var\u001b[39m.\u001b[39mitems():\n",
      "File \u001b[0;32m~/.local/lib/python3.10/site-packages/mat73/core.py:186\u001b[0m, in \u001b[0;36mHDF5Decoder.unpack_mat\u001b[0;34m(self, hdf5, depth, MATLAB_class, force)\u001b[0m\n\u001b[1;32m    184\u001b[0m \u001b[39melif\u001b[39;00m \u001b[39misinstance\u001b[39m(hdf5, h5py\u001b[39m.\u001b[39m_hl\u001b[39m.\u001b[39mdataset\u001b[39m.\u001b[39mDataset):\n\u001b[1;32m    185\u001b[0m     \u001b[39mif\u001b[39;00m \u001b[39mself\u001b[39m\u001b[39m.\u001b[39mis_included(hdf5) \u001b[39mor\u001b[39;00m force:\n\u001b[0;32m--> 186\u001b[0m         \u001b[39mreturn\u001b[39;00m \u001b[39mself\u001b[39;49m\u001b[39m.\u001b[39;49mconvert_mat(hdf5, depth, MATLAB_class\u001b[39m=\u001b[39;49mMATLAB_class)\n\u001b[1;32m    187\u001b[0m \u001b[39melse\u001b[39;00m:\n\u001b[1;32m    188\u001b[0m     \u001b[39mraise\u001b[39;00m \u001b[39mException\u001b[39;00m(\u001b[39mf\u001b[39m\u001b[39m'\u001b[39m\u001b[39mUnknown hdf5 type: \u001b[39m\u001b[39m{\u001b[39;00mkey\u001b[39m}\u001b[39;00m\u001b[39m:\u001b[39m\u001b[39m{\u001b[39;00m\u001b[39mtype\u001b[39m(hdf5)\u001b[39m}\u001b[39;00m\u001b[39m'\u001b[39m)\n",
      "File \u001b[0;32m~/.local/lib/python3.10/site-packages/mat73/core.py:288\u001b[0m, in \u001b[0;36mHDF5Decoder.convert_mat\u001b[0;34m(self, dataset, depth, MATLAB_class)\u001b[0m\n\u001b[1;32m    285\u001b[0m \u001b[39m# if it is none of the above, we can convert to numpy array\u001b[39;00m\n\u001b[1;32m    286\u001b[0m \u001b[39melif\u001b[39;00m mtype \u001b[39min\u001b[39;00m (\u001b[39m'\u001b[39m\u001b[39mdouble\u001b[39m\u001b[39m'\u001b[39m, \u001b[39m'\u001b[39m\u001b[39msingle\u001b[39m\u001b[39m'\u001b[39m, \u001b[39m'\u001b[39m\u001b[39mint8\u001b[39m\u001b[39m'\u001b[39m, \u001b[39m'\u001b[39m\u001b[39mint16\u001b[39m\u001b[39m'\u001b[39m, \u001b[39m'\u001b[39m\u001b[39mint32\u001b[39m\u001b[39m'\u001b[39m, \u001b[39m'\u001b[39m\u001b[39mint64\u001b[39m\u001b[39m'\u001b[39m,\n\u001b[1;32m    287\u001b[0m                \u001b[39m'\u001b[39m\u001b[39muint8\u001b[39m\u001b[39m'\u001b[39m, \u001b[39m'\u001b[39m\u001b[39muint16\u001b[39m\u001b[39m'\u001b[39m, \u001b[39m'\u001b[39m\u001b[39muint32\u001b[39m\u001b[39m'\u001b[39m, \u001b[39m'\u001b[39m\u001b[39muint64\u001b[39m\u001b[39m'\u001b[39m):\n\u001b[0;32m--> 288\u001b[0m     arr \u001b[39m=\u001b[39m np\u001b[39m.\u001b[39;49marray(dataset, dtype\u001b[39m=\u001b[39;49mdataset\u001b[39m.\u001b[39;49mdtype)\n\u001b[1;32m    289\u001b[0m     \u001b[39mreturn\u001b[39;00m arr\u001b[39m.\u001b[39mT\u001b[39m.\u001b[39msqueeze()\n\u001b[1;32m    290\u001b[0m \u001b[39melif\u001b[39;00m mtype\u001b[39m==\u001b[39m\u001b[39m'\u001b[39m\u001b[39mmissing\u001b[39m\u001b[39m'\u001b[39m:\n",
      "File \u001b[0;32mh5py/_objects.pyx:54\u001b[0m, in \u001b[0;36mh5py._objects.with_phil.wrapper\u001b[0;34m()\u001b[0m\n",
      "File \u001b[0;32mh5py/_objects.pyx:55\u001b[0m, in \u001b[0;36mh5py._objects.with_phil.wrapper\u001b[0;34m()\u001b[0m\n",
      "File \u001b[0;32m~/.local/lib/python3.10/site-packages/h5py/_hl/dataset.py:1063\u001b[0m, in \u001b[0;36mDataset.__array__\u001b[0;34m(self, dtype)\u001b[0m\n\u001b[1;32m   1060\u001b[0m \u001b[39mif\u001b[39;00m \u001b[39mself\u001b[39m\u001b[39m.\u001b[39msize \u001b[39m==\u001b[39m \u001b[39m0\u001b[39m:\n\u001b[1;32m   1061\u001b[0m     \u001b[39mreturn\u001b[39;00m arr\n\u001b[0;32m-> 1063\u001b[0m \u001b[39mself\u001b[39;49m\u001b[39m.\u001b[39;49mread_direct(arr)\n\u001b[1;32m   1064\u001b[0m \u001b[39mreturn\u001b[39;00m arr\n",
      "File \u001b[0;32m~/.local/lib/python3.10/site-packages/h5py/_hl/dataset.py:1024\u001b[0m, in \u001b[0;36mDataset.read_direct\u001b[0;34m(self, dest, source_sel, dest_sel)\u001b[0m\n\u001b[1;32m   1021\u001b[0m     dest_sel \u001b[39m=\u001b[39m sel\u001b[39m.\u001b[39mselect(dest\u001b[39m.\u001b[39mshape, dest_sel)\n\u001b[1;32m   1023\u001b[0m \u001b[39mfor\u001b[39;00m mspace \u001b[39min\u001b[39;00m dest_sel\u001b[39m.\u001b[39mbroadcast(source_sel\u001b[39m.\u001b[39marray_shape):\n\u001b[0;32m-> 1024\u001b[0m     \u001b[39mself\u001b[39;49m\u001b[39m.\u001b[39;49mid\u001b[39m.\u001b[39;49mread(mspace, fspace, dest, dxpl\u001b[39m=\u001b[39;49m\u001b[39mself\u001b[39;49m\u001b[39m.\u001b[39;49m_dxpl)\n",
      "\u001b[0;31mKeyboardInterrupt\u001b[0m: "
     ]
    }
   ],
   "source": [
    "# process EEG file\n",
    "n=0\n",
    "for HashFolderName in tqdm(df.HashFolderName.unique()[20:100]):\n",
    "    # get all events from same hashfolder\n",
    "    sub_df = df[df.HashFolderName==HashFolderName]\n",
    "    sub_df = sub_df.sort_values(by='relativeTime')\n",
    "    # get knowledge about file location\n",
    "    SiteID,EEGFolder,HashFolderName = sub_df.iloc[0][['SiteID','EEGFolder','HashFolderName']].to_list()\n",
    "    # load file and metadata\n",
    "    eeg_start_time = sub_df.iloc[0].startTime\n",
    "    data,Fs,available_channels = process_EEG_file(root,SiteID,EEGFolder,HashFolderName,eeg_start_time,next=False)\n",
    "    if Fs!=200:\n",
    "        print('FS is not 200!!!!')\n",
    "    # save all events from the eeg file\n",
    "    for j in tqdm(range(len(sub_df)),leave=False):\n",
    "        n+=1\n",
    "        # get time relative to beginning of file \n",
    "        eeg_start_time = sub_df.iloc[j].startTime\n",
    "        eventTime = sub_df.iloc[j].eventTime \n",
    "        relativeTime = int((eventTime-eeg_start_time).total_seconds())\n",
    "        if relativeTime > 1e6:\n",
    "            continue\n",
    "        # load next file if relative event time > 12h, since engineers broke up the files!\n",
    "        if relativeTime > data.shape[1]/Fs:\n",
    "            print(f'data shape in seconds {data.shape[1]/200}')\n",
    "            print(f'relative time in seconds {relativeTime}')\n",
    "            data,Fs,available_channels = process_EEG_file(root,SiteID,EEGFolder,HashFolderName,eeg_start_time,next=True)\n",
    "        # get snippet from eeg file and save it somewhere\n",
    "        snippet = get_right_event_time(data=data,\n",
    "                                    relative_event_time=relativeTime,\n",
    "                                    windowsize=windowsize,\n",
    "                                    Fs=Fs)\n",
    "        snippet = get_right_event_channels(data=snippet,\n",
    "                                        desired_channels=desired_channels,\n",
    "                                        available_channels=available_channels)\n",
    "        name = HashFolderName.split('_')[0]+'_'+datetime.strftime(eventTime,'%Y%m%d_%H%M%S')\n",
    "        if name in hf:\n",
    "            continue\n",
    "        # save in h5py file\n",
    "        hf.create_dataset(name=name,data=snippet,dtype='f4',compression='gzip')\n",
    "        np.save('SauronData/'+name,snippet)\n"
   ]
  },
  {
   "cell_type": "code",
   "execution_count": 50,
   "metadata": {},
   "outputs": [
    {
     "data": {
      "text/plain": [
       "6.846840277777778"
      ]
     },
     "execution_count": 50,
     "metadata": {},
     "output_type": "execute_result"
    }
   ],
   "source": [
    "24648.625/3600"
   ]
  },
  {
   "cell_type": "code",
   "execution_count": 35,
   "metadata": {},
   "outputs": [],
   "source": [
    "\n",
    "def get_right_event_time(data,relative_event_time,windowsize,Fs):\n",
    "    # takes a piece of signal of shape [channel, ts], the timestamp of the event and the windowsize\n",
    "    # returns the event pm windowsize, shape [channel, windowsize]\n",
    "    \n",
    "    snippet_start = int((relative_event_time-windowsize/2)*Fs)\n",
    "    snippet_end = int((relative_event_time+windowsize/2)*Fs)\n",
    "    return data[:,snippet_start:snippet_end]"
   ]
  },
  {
   "cell_type": "code",
   "execution_count": 24,
   "metadata": {},
   "outputs": [],
   "source": [
    "g = h5py.File('SauronData.h5','r')"
   ]
  },
  {
   "cell_type": "code",
   "execution_count": 26,
   "metadata": {},
   "outputs": [
    {
     "data": {
      "text/plain": [
       "<HDF5 dataset \"000876e332515afc590efb5235e6970af4b9e12b564d60dd424c15c362fd5888_20100315_092048\": shape (20, 3000), type \"<f4\">"
      ]
     },
     "execution_count": 26,
     "metadata": {},
     "output_type": "execute_result"
    }
   ],
   "source": [
    "g[name]"
   ]
  }
 ],
 "metadata": {
  "kernelspec": {
   "display_name": "Python 3",
   "language": "python",
   "name": "python3"
  },
  "language_info": {
   "codemirror_mode": {
    "name": "ipython",
    "version": 3
   },
   "file_extension": ".py",
   "mimetype": "text/x-python",
   "name": "python",
   "nbconvert_exporter": "python",
   "pygments_lexer": "ipython3",
   "version": "3.10.12"
  }
 },
 "nbformat": 4,
 "nbformat_minor": 2
}
